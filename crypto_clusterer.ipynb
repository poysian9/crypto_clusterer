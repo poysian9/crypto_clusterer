{
 "cells": [
  {
   "cell_type": "markdown",
   "metadata": {},
   "source": [
    "# Clustering Crypto"
   ]
  },
  {
   "cell_type": "code",
   "execution_count": 52,
   "metadata": {},
   "outputs": [],
   "source": [
    "# Initial imports\n",
    "import requests\n",
    "import numpy as np\n",
    "import pandas as pd\n",
    "import matplotlib.pyplot as plt\n",
    "import hvplot.pandas\n",
    "import plotly.express as px\n",
    "from bokeh.models.formatters import NumeralTickFormatter\n",
    "from sklearn.preprocessing import StandardScaler, MinMaxScaler\n",
    "from sklearn.decomposition import PCA\n",
    "from sklearn.cluster import KMeans\n",
    "import json"
   ]
  },
  {
   "cell_type": "markdown",
   "metadata": {},
   "source": [
    "### Fetching Cryptocurrency Data"
   ]
  },
  {
   "cell_type": "code",
   "execution_count": 2,
   "metadata": {},
   "outputs": [],
   "source": [
    "# Use the following endpoint to fetch json data\n",
    "url = \"https://min-api.cryptocompare.com/data/all/coinlist\"\n",
    "crypto_response = requests.get(url)\n",
    "crypto_json = crypto_response.json()\n",
    "crypto_data = crypto_json[\"Data\"]"
   ]
  },
  {
   "cell_type": "code",
   "execution_count": 3,
   "metadata": {},
   "outputs": [],
   "source": [
    "# Create a DataFrame \n",
    "# HINT: You will need to use the 'Data' key from the json response, then transpose the DataFrame.\n",
    "crypto_df = pd.DataFrame(crypto_data).T\n",
    "crypto_df.head()\n",
    "crypto_df.to_csv('crypto_df.csv')"
   ]
  },
  {
   "cell_type": "markdown",
   "metadata": {},
   "source": [
    "### Data Preprocessing"
   ]
  },
  {
   "cell_type": "code",
   "execution_count": 4,
   "metadata": {},
   "outputs": [
    {
     "output_type": "execute_result",
     "data": {
      "text/plain": [
       "        CoinName      Algorithm IsTrading ProofType TotalCoinsMined  MaxSupply\n",
       "42       42 Coin         Scrypt      True   PoW/PoS               0          0\n",
       "300    300 token            N/A      True       N/A             300        300\n",
       "365      365Coin            X11      True   PoW/PoS               0          0\n",
       "404      404Coin         Scrypt      True   PoW/PoS               0          0\n",
       "433    433 Token            N/A     False       N/A             NaN        NaN\n",
       "...          ...            ...       ...       ...             ...        ...\n",
       "ARK          ARK           DPoS      True      DPoS     1.55309e+08         -1\n",
       "ARDR       Ardor            N/A      True       PoS       998999495  998999495\n",
       "AION        Aion  Equihash210,9      True   PoW/PoS       487496874         -1\n",
       "MYST   Mysterium            N/A      True       N/A               0          0\n",
       "XFUND      xFund            N/A      True       N/A            2854       2854\n",
       "\n",
       "[6077 rows x 6 columns]"
      ],
      "text/html": "<div>\n<style scoped>\n    .dataframe tbody tr th:only-of-type {\n        vertical-align: middle;\n    }\n\n    .dataframe tbody tr th {\n        vertical-align: top;\n    }\n\n    .dataframe thead th {\n        text-align: right;\n    }\n</style>\n<table border=\"1\" class=\"dataframe\">\n  <thead>\n    <tr style=\"text-align: right;\">\n      <th></th>\n      <th>CoinName</th>\n      <th>Algorithm</th>\n      <th>IsTrading</th>\n      <th>ProofType</th>\n      <th>TotalCoinsMined</th>\n      <th>MaxSupply</th>\n    </tr>\n  </thead>\n  <tbody>\n    <tr>\n      <th>42</th>\n      <td>42 Coin</td>\n      <td>Scrypt</td>\n      <td>True</td>\n      <td>PoW/PoS</td>\n      <td>0</td>\n      <td>0</td>\n    </tr>\n    <tr>\n      <th>300</th>\n      <td>300 token</td>\n      <td>N/A</td>\n      <td>True</td>\n      <td>N/A</td>\n      <td>300</td>\n      <td>300</td>\n    </tr>\n    <tr>\n      <th>365</th>\n      <td>365Coin</td>\n      <td>X11</td>\n      <td>True</td>\n      <td>PoW/PoS</td>\n      <td>0</td>\n      <td>0</td>\n    </tr>\n    <tr>\n      <th>404</th>\n      <td>404Coin</td>\n      <td>Scrypt</td>\n      <td>True</td>\n      <td>PoW/PoS</td>\n      <td>0</td>\n      <td>0</td>\n    </tr>\n    <tr>\n      <th>433</th>\n      <td>433 Token</td>\n      <td>N/A</td>\n      <td>False</td>\n      <td>N/A</td>\n      <td>NaN</td>\n      <td>NaN</td>\n    </tr>\n    <tr>\n      <th>...</th>\n      <td>...</td>\n      <td>...</td>\n      <td>...</td>\n      <td>...</td>\n      <td>...</td>\n      <td>...</td>\n    </tr>\n    <tr>\n      <th>ARK</th>\n      <td>ARK</td>\n      <td>DPoS</td>\n      <td>True</td>\n      <td>DPoS</td>\n      <td>1.55309e+08</td>\n      <td>-1</td>\n    </tr>\n    <tr>\n      <th>ARDR</th>\n      <td>Ardor</td>\n      <td>N/A</td>\n      <td>True</td>\n      <td>PoS</td>\n      <td>998999495</td>\n      <td>998999495</td>\n    </tr>\n    <tr>\n      <th>AION</th>\n      <td>Aion</td>\n      <td>Equihash210,9</td>\n      <td>True</td>\n      <td>PoW/PoS</td>\n      <td>487496874</td>\n      <td>-1</td>\n    </tr>\n    <tr>\n      <th>MYST</th>\n      <td>Mysterium</td>\n      <td>N/A</td>\n      <td>True</td>\n      <td>N/A</td>\n      <td>0</td>\n      <td>0</td>\n    </tr>\n    <tr>\n      <th>XFUND</th>\n      <td>xFund</td>\n      <td>N/A</td>\n      <td>True</td>\n      <td>N/A</td>\n      <td>2854</td>\n      <td>2854</td>\n    </tr>\n  </tbody>\n</table>\n<p>6077 rows × 6 columns</p>\n</div>"
     },
     "metadata": {},
     "execution_count": 4
    }
   ],
   "source": [
    "# Keep only necessary columns:\n",
    "# 'CoinName','Algorithm','IsTrading','ProofType','TotalCoinsMined','TotalCoinSupply'\n",
    "crypto_df = crypto_df[[\n",
    "                'CoinName',\n",
    "                'Algorithm',\n",
    "                'IsTrading',\n",
    "                'ProofType',\n",
    "                'TotalCoinsMined', \n",
    "                'MaxSupply'\n",
    "            ]]\n",
    "crypto_df"
   ]
  },
  {
   "cell_type": "code",
   "execution_count": 5,
   "metadata": {},
   "outputs": [
    {
     "output_type": "execute_result",
     "data": {
      "text/plain": [
       "        CoinName      Algorithm IsTrading ProofType TotalCoinsMined  MaxSupply\n",
       "42       42 Coin         Scrypt      True   PoW/PoS               0          0\n",
       "300    300 token            N/A      True       N/A             300        300\n",
       "365      365Coin            X11      True   PoW/PoS               0          0\n",
       "404      404Coin         Scrypt      True   PoW/PoS               0          0\n",
       "611    SixEleven        SHA-256      True       PoW               0          0\n",
       "...          ...            ...       ...       ...             ...        ...\n",
       "ARK          ARK           DPoS      True      DPoS     1.55309e+08         -1\n",
       "ARDR       Ardor            N/A      True       PoS       998999495  998999495\n",
       "AION        Aion  Equihash210,9      True   PoW/PoS       487496874         -1\n",
       "MYST   Mysterium            N/A      True       N/A               0          0\n",
       "XFUND      xFund            N/A      True       N/A            2854       2854\n",
       "\n",
       "[4856 rows x 6 columns]"
      ],
      "text/html": "<div>\n<style scoped>\n    .dataframe tbody tr th:only-of-type {\n        vertical-align: middle;\n    }\n\n    .dataframe tbody tr th {\n        vertical-align: top;\n    }\n\n    .dataframe thead th {\n        text-align: right;\n    }\n</style>\n<table border=\"1\" class=\"dataframe\">\n  <thead>\n    <tr style=\"text-align: right;\">\n      <th></th>\n      <th>CoinName</th>\n      <th>Algorithm</th>\n      <th>IsTrading</th>\n      <th>ProofType</th>\n      <th>TotalCoinsMined</th>\n      <th>MaxSupply</th>\n    </tr>\n  </thead>\n  <tbody>\n    <tr>\n      <th>42</th>\n      <td>42 Coin</td>\n      <td>Scrypt</td>\n      <td>True</td>\n      <td>PoW/PoS</td>\n      <td>0</td>\n      <td>0</td>\n    </tr>\n    <tr>\n      <th>300</th>\n      <td>300 token</td>\n      <td>N/A</td>\n      <td>True</td>\n      <td>N/A</td>\n      <td>300</td>\n      <td>300</td>\n    </tr>\n    <tr>\n      <th>365</th>\n      <td>365Coin</td>\n      <td>X11</td>\n      <td>True</td>\n      <td>PoW/PoS</td>\n      <td>0</td>\n      <td>0</td>\n    </tr>\n    <tr>\n      <th>404</th>\n      <td>404Coin</td>\n      <td>Scrypt</td>\n      <td>True</td>\n      <td>PoW/PoS</td>\n      <td>0</td>\n      <td>0</td>\n    </tr>\n    <tr>\n      <th>611</th>\n      <td>SixEleven</td>\n      <td>SHA-256</td>\n      <td>True</td>\n      <td>PoW</td>\n      <td>0</td>\n      <td>0</td>\n    </tr>\n    <tr>\n      <th>...</th>\n      <td>...</td>\n      <td>...</td>\n      <td>...</td>\n      <td>...</td>\n      <td>...</td>\n      <td>...</td>\n    </tr>\n    <tr>\n      <th>ARK</th>\n      <td>ARK</td>\n      <td>DPoS</td>\n      <td>True</td>\n      <td>DPoS</td>\n      <td>1.55309e+08</td>\n      <td>-1</td>\n    </tr>\n    <tr>\n      <th>ARDR</th>\n      <td>Ardor</td>\n      <td>N/A</td>\n      <td>True</td>\n      <td>PoS</td>\n      <td>998999495</td>\n      <td>998999495</td>\n    </tr>\n    <tr>\n      <th>AION</th>\n      <td>Aion</td>\n      <td>Equihash210,9</td>\n      <td>True</td>\n      <td>PoW/PoS</td>\n      <td>487496874</td>\n      <td>-1</td>\n    </tr>\n    <tr>\n      <th>MYST</th>\n      <td>Mysterium</td>\n      <td>N/A</td>\n      <td>True</td>\n      <td>N/A</td>\n      <td>0</td>\n      <td>0</td>\n    </tr>\n    <tr>\n      <th>XFUND</th>\n      <td>xFund</td>\n      <td>N/A</td>\n      <td>True</td>\n      <td>N/A</td>\n      <td>2854</td>\n      <td>2854</td>\n    </tr>\n  </tbody>\n</table>\n<p>4856 rows × 6 columns</p>\n</div>"
     },
     "metadata": {},
     "execution_count": 5
    }
   ],
   "source": [
    "# Keep only cryptocurrencies that are trading\n",
    "crypto_df = crypto_df[crypto_df[\"IsTrading\"] == True]\n",
    "crypto_df"
   ]
  },
  {
   "cell_type": "code",
   "execution_count": 6,
   "metadata": {},
   "outputs": [
    {
     "output_type": "execute_result",
     "data": {
      "text/plain": [
       "              CoinName      Algorithm IsTrading ProofType TotalCoinsMined  \\\n",
       "42             42 Coin         Scrypt      True   PoW/PoS               0   \n",
       "365            365Coin            X11      True   PoW/PoS               0   \n",
       "404            404Coin         Scrypt      True   PoW/PoS               0   \n",
       "611          SixEleven        SHA-256      True       PoW               0   \n",
       "808                808        SHA-256      True   PoW/PoS               0   \n",
       "...                ...            ...       ...       ...             ...   \n",
       "GENSTAKE      Genstake         Scrypt      True   PoW/PoS             NaN   \n",
       "BTC            Bitcoin        SHA-256      True       PoW        18627043   \n",
       "BNB       Binance Coin     BEP2 Token      True      PoSA     1.70534e+08   \n",
       "ARK                ARK           DPoS      True      DPoS     1.55309e+08   \n",
       "AION              Aion  Equihash210,9      True   PoW/PoS       487496874   \n",
       "\n",
       "            MaxSupply  \n",
       "42                  0  \n",
       "365                 0  \n",
       "404                 0  \n",
       "611                 0  \n",
       "808                 0  \n",
       "...               ...  \n",
       "GENSTAKE          NaN  \n",
       "BTC           2.1e+07  \n",
       "BNB       1.74154e+08  \n",
       "ARK                -1  \n",
       "AION               -1  \n",
       "\n",
       "[1484 rows x 6 columns]"
      ],
      "text/html": "<div>\n<style scoped>\n    .dataframe tbody tr th:only-of-type {\n        vertical-align: middle;\n    }\n\n    .dataframe tbody tr th {\n        vertical-align: top;\n    }\n\n    .dataframe thead th {\n        text-align: right;\n    }\n</style>\n<table border=\"1\" class=\"dataframe\">\n  <thead>\n    <tr style=\"text-align: right;\">\n      <th></th>\n      <th>CoinName</th>\n      <th>Algorithm</th>\n      <th>IsTrading</th>\n      <th>ProofType</th>\n      <th>TotalCoinsMined</th>\n      <th>MaxSupply</th>\n    </tr>\n  </thead>\n  <tbody>\n    <tr>\n      <th>42</th>\n      <td>42 Coin</td>\n      <td>Scrypt</td>\n      <td>True</td>\n      <td>PoW/PoS</td>\n      <td>0</td>\n      <td>0</td>\n    </tr>\n    <tr>\n      <th>365</th>\n      <td>365Coin</td>\n      <td>X11</td>\n      <td>True</td>\n      <td>PoW/PoS</td>\n      <td>0</td>\n      <td>0</td>\n    </tr>\n    <tr>\n      <th>404</th>\n      <td>404Coin</td>\n      <td>Scrypt</td>\n      <td>True</td>\n      <td>PoW/PoS</td>\n      <td>0</td>\n      <td>0</td>\n    </tr>\n    <tr>\n      <th>611</th>\n      <td>SixEleven</td>\n      <td>SHA-256</td>\n      <td>True</td>\n      <td>PoW</td>\n      <td>0</td>\n      <td>0</td>\n    </tr>\n    <tr>\n      <th>808</th>\n      <td>808</td>\n      <td>SHA-256</td>\n      <td>True</td>\n      <td>PoW/PoS</td>\n      <td>0</td>\n      <td>0</td>\n    </tr>\n    <tr>\n      <th>...</th>\n      <td>...</td>\n      <td>...</td>\n      <td>...</td>\n      <td>...</td>\n      <td>...</td>\n      <td>...</td>\n    </tr>\n    <tr>\n      <th>GENSTAKE</th>\n      <td>Genstake</td>\n      <td>Scrypt</td>\n      <td>True</td>\n      <td>PoW/PoS</td>\n      <td>NaN</td>\n      <td>NaN</td>\n    </tr>\n    <tr>\n      <th>BTC</th>\n      <td>Bitcoin</td>\n      <td>SHA-256</td>\n      <td>True</td>\n      <td>PoW</td>\n      <td>18627043</td>\n      <td>2.1e+07</td>\n    </tr>\n    <tr>\n      <th>BNB</th>\n      <td>Binance Coin</td>\n      <td>BEP2 Token</td>\n      <td>True</td>\n      <td>PoSA</td>\n      <td>1.70534e+08</td>\n      <td>1.74154e+08</td>\n    </tr>\n    <tr>\n      <th>ARK</th>\n      <td>ARK</td>\n      <td>DPoS</td>\n      <td>True</td>\n      <td>DPoS</td>\n      <td>1.55309e+08</td>\n      <td>-1</td>\n    </tr>\n    <tr>\n      <th>AION</th>\n      <td>Aion</td>\n      <td>Equihash210,9</td>\n      <td>True</td>\n      <td>PoW/PoS</td>\n      <td>487496874</td>\n      <td>-1</td>\n    </tr>\n  </tbody>\n</table>\n<p>1484 rows × 6 columns</p>\n</div>"
     },
     "metadata": {},
     "execution_count": 6
    }
   ],
   "source": [
    "# Keep only cryptocurrencies with a working algorithm\n",
    "crypto_df = crypto_df[crypto_df.Algorithm != \"N/A\"]\n",
    "crypto_df"
   ]
  },
  {
   "cell_type": "code",
   "execution_count": 7,
   "metadata": {},
   "outputs": [
    {
     "output_type": "execute_result",
     "data": {
      "text/plain": [
       "              CoinName      Algorithm ProofType TotalCoinsMined    MaxSupply\n",
       "42             42 Coin         Scrypt   PoW/PoS               0            0\n",
       "365            365Coin            X11   PoW/PoS               0            0\n",
       "404            404Coin         Scrypt   PoW/PoS               0            0\n",
       "611          SixEleven        SHA-256       PoW               0            0\n",
       "808                808        SHA-256   PoW/PoS               0            0\n",
       "...                ...            ...       ...             ...          ...\n",
       "GENSTAKE      Genstake         Scrypt   PoW/PoS             NaN          NaN\n",
       "BTC            Bitcoin        SHA-256       PoW        18627043      2.1e+07\n",
       "BNB       Binance Coin     BEP2 Token      PoSA     1.70534e+08  1.74154e+08\n",
       "ARK                ARK           DPoS      DPoS     1.55309e+08           -1\n",
       "AION              Aion  Equihash210,9   PoW/PoS       487496874           -1\n",
       "\n",
       "[1484 rows x 5 columns]"
      ],
      "text/html": "<div>\n<style scoped>\n    .dataframe tbody tr th:only-of-type {\n        vertical-align: middle;\n    }\n\n    .dataframe tbody tr th {\n        vertical-align: top;\n    }\n\n    .dataframe thead th {\n        text-align: right;\n    }\n</style>\n<table border=\"1\" class=\"dataframe\">\n  <thead>\n    <tr style=\"text-align: right;\">\n      <th></th>\n      <th>CoinName</th>\n      <th>Algorithm</th>\n      <th>ProofType</th>\n      <th>TotalCoinsMined</th>\n      <th>MaxSupply</th>\n    </tr>\n  </thead>\n  <tbody>\n    <tr>\n      <th>42</th>\n      <td>42 Coin</td>\n      <td>Scrypt</td>\n      <td>PoW/PoS</td>\n      <td>0</td>\n      <td>0</td>\n    </tr>\n    <tr>\n      <th>365</th>\n      <td>365Coin</td>\n      <td>X11</td>\n      <td>PoW/PoS</td>\n      <td>0</td>\n      <td>0</td>\n    </tr>\n    <tr>\n      <th>404</th>\n      <td>404Coin</td>\n      <td>Scrypt</td>\n      <td>PoW/PoS</td>\n      <td>0</td>\n      <td>0</td>\n    </tr>\n    <tr>\n      <th>611</th>\n      <td>SixEleven</td>\n      <td>SHA-256</td>\n      <td>PoW</td>\n      <td>0</td>\n      <td>0</td>\n    </tr>\n    <tr>\n      <th>808</th>\n      <td>808</td>\n      <td>SHA-256</td>\n      <td>PoW/PoS</td>\n      <td>0</td>\n      <td>0</td>\n    </tr>\n    <tr>\n      <th>...</th>\n      <td>...</td>\n      <td>...</td>\n      <td>...</td>\n      <td>...</td>\n      <td>...</td>\n    </tr>\n    <tr>\n      <th>GENSTAKE</th>\n      <td>Genstake</td>\n      <td>Scrypt</td>\n      <td>PoW/PoS</td>\n      <td>NaN</td>\n      <td>NaN</td>\n    </tr>\n    <tr>\n      <th>BTC</th>\n      <td>Bitcoin</td>\n      <td>SHA-256</td>\n      <td>PoW</td>\n      <td>18627043</td>\n      <td>2.1e+07</td>\n    </tr>\n    <tr>\n      <th>BNB</th>\n      <td>Binance Coin</td>\n      <td>BEP2 Token</td>\n      <td>PoSA</td>\n      <td>1.70534e+08</td>\n      <td>1.74154e+08</td>\n    </tr>\n    <tr>\n      <th>ARK</th>\n      <td>ARK</td>\n      <td>DPoS</td>\n      <td>DPoS</td>\n      <td>1.55309e+08</td>\n      <td>-1</td>\n    </tr>\n    <tr>\n      <th>AION</th>\n      <td>Aion</td>\n      <td>Equihash210,9</td>\n      <td>PoW/PoS</td>\n      <td>487496874</td>\n      <td>-1</td>\n    </tr>\n  </tbody>\n</table>\n<p>1484 rows × 5 columns</p>\n</div>"
     },
     "metadata": {},
     "execution_count": 7
    }
   ],
   "source": [
    "# Remove the 'IsTrading' column\n",
    "crypto_df.drop(columns=\"IsTrading\", inplace=True)\n",
    "crypto_df"
   ]
  },
  {
   "cell_type": "code",
   "execution_count": 8,
   "metadata": {
    "tags": []
   },
   "outputs": [
    {
     "output_type": "execute_result",
     "data": {
      "text/plain": [
       "               CoinName         Algorithm ProofType  TotalCoinsMined  \\\n",
       "AAC   Acute Angle Cloud         ECC 256K1      DPOS     1.000000e+09   \n",
       "ADA             Cardano         Ouroboros       PoS     3.190692e+10   \n",
       "AEON               AEON  CryptoNight-Lite       PoW     1.777472e+07   \n",
       "AION               Aion     Equihash210,9   PoW/PoS     4.874969e+08   \n",
       "AMB               Amber            Dagger       PoA     6.649843e+08   \n",
       "...                 ...               ...       ...              ...   \n",
       "XVG               Verge          Multiple       PoW     1.642954e+10   \n",
       "XWC           WhiteCoin            Scrypt   PoW/PoS     9.106302e+08   \n",
       "ZEC               ZCash          Equihash       PoW     1.078766e+07   \n",
       "ZEL             Zelcash          Equihash   PoW/PoS     1.215844e+08   \n",
       "ZEN             Horizen          Equihash       PoW     1.075646e+07   \n",
       "\n",
       "         MaxSupply  \n",
       "AAC  -1.000000e+00  \n",
       "ADA   4.500000e+10  \n",
       "AEON -1.000000e+00  \n",
       "AION -1.000000e+00  \n",
       "AMB  -1.000000e+00  \n",
       "...            ...  \n",
       "XVG   1.655500e+10  \n",
       "XWC   1.000000e+09  \n",
       "ZEC   2.100000e+07  \n",
       "ZEL   2.100000e+08  \n",
       "ZEN   2.100000e+07  \n",
       "\n",
       "[109 rows x 5 columns]"
      ],
      "text/html": "<div>\n<style scoped>\n    .dataframe tbody tr th:only-of-type {\n        vertical-align: middle;\n    }\n\n    .dataframe tbody tr th {\n        vertical-align: top;\n    }\n\n    .dataframe thead th {\n        text-align: right;\n    }\n</style>\n<table border=\"1\" class=\"dataframe\">\n  <thead>\n    <tr style=\"text-align: right;\">\n      <th></th>\n      <th>CoinName</th>\n      <th>Algorithm</th>\n      <th>ProofType</th>\n      <th>TotalCoinsMined</th>\n      <th>MaxSupply</th>\n    </tr>\n  </thead>\n  <tbody>\n    <tr>\n      <th>AAC</th>\n      <td>Acute Angle Cloud</td>\n      <td>ECC 256K1</td>\n      <td>DPOS</td>\n      <td>1.000000e+09</td>\n      <td>-1.000000e+00</td>\n    </tr>\n    <tr>\n      <th>ADA</th>\n      <td>Cardano</td>\n      <td>Ouroboros</td>\n      <td>PoS</td>\n      <td>3.190692e+10</td>\n      <td>4.500000e+10</td>\n    </tr>\n    <tr>\n      <th>AEON</th>\n      <td>AEON</td>\n      <td>CryptoNight-Lite</td>\n      <td>PoW</td>\n      <td>1.777472e+07</td>\n      <td>-1.000000e+00</td>\n    </tr>\n    <tr>\n      <th>AION</th>\n      <td>Aion</td>\n      <td>Equihash210,9</td>\n      <td>PoW/PoS</td>\n      <td>4.874969e+08</td>\n      <td>-1.000000e+00</td>\n    </tr>\n    <tr>\n      <th>AMB</th>\n      <td>Amber</td>\n      <td>Dagger</td>\n      <td>PoA</td>\n      <td>6.649843e+08</td>\n      <td>-1.000000e+00</td>\n    </tr>\n    <tr>\n      <th>...</th>\n      <td>...</td>\n      <td>...</td>\n      <td>...</td>\n      <td>...</td>\n      <td>...</td>\n    </tr>\n    <tr>\n      <th>XVG</th>\n      <td>Verge</td>\n      <td>Multiple</td>\n      <td>PoW</td>\n      <td>1.642954e+10</td>\n      <td>1.655500e+10</td>\n    </tr>\n    <tr>\n      <th>XWC</th>\n      <td>WhiteCoin</td>\n      <td>Scrypt</td>\n      <td>PoW/PoS</td>\n      <td>9.106302e+08</td>\n      <td>1.000000e+09</td>\n    </tr>\n    <tr>\n      <th>ZEC</th>\n      <td>ZCash</td>\n      <td>Equihash</td>\n      <td>PoW</td>\n      <td>1.078766e+07</td>\n      <td>2.100000e+07</td>\n    </tr>\n    <tr>\n      <th>ZEL</th>\n      <td>Zelcash</td>\n      <td>Equihash</td>\n      <td>PoW/PoS</td>\n      <td>1.215844e+08</td>\n      <td>2.100000e+08</td>\n    </tr>\n    <tr>\n      <th>ZEN</th>\n      <td>Horizen</td>\n      <td>Equihash</td>\n      <td>PoW</td>\n      <td>1.075646e+07</td>\n      <td>2.100000e+07</td>\n    </tr>\n  </tbody>\n</table>\n<p>109 rows × 5 columns</p>\n</div>"
     },
     "metadata": {},
     "execution_count": 8
    }
   ],
   "source": [
    "# Remove rows with at least 1 null value\n",
    "crypto_df.replace([\"N/A\", 0], np.nan, inplace=True)\n",
    "crypto_df.dropna(how=\"any\", inplace=True)\n",
    "crypto_df = crypto_df.sort_index()\n",
    "crypto_df"
   ]
  },
  {
   "cell_type": "code",
   "execution_count": 9,
   "metadata": {},
   "outputs": [
    {
     "output_type": "execute_result",
     "data": {
      "text/plain": [
       "AAC     Acute Angle Cloud\n",
       "ADA               Cardano\n",
       "AEON                 AEON\n",
       "AION                 Aion\n",
       "AMB                 Amber\n",
       "              ...        \n",
       "XVG                 Verge\n",
       "XWC             WhiteCoin\n",
       "ZEC                 ZCash\n",
       "ZEL               Zelcash\n",
       "ZEN               Horizen\n",
       "Name: CoinName, Length: 109, dtype: object"
      ]
     },
     "metadata": {},
     "execution_count": 9
    }
   ],
   "source": [
    "# Store the 'CoinName'column in its own DataFrame prior to dropping it from crypto_df \n",
    "coin_names = crypto_df.CoinName\n",
    "coin_names"
   ]
  },
  {
   "cell_type": "code",
   "execution_count": 10,
   "metadata": {},
   "outputs": [
    {
     "output_type": "execute_result",
     "data": {
      "text/plain": [
       "             Algorithm ProofType  TotalCoinsMined     MaxSupply\n",
       "AAC          ECC 256K1      DPOS     1.000000e+09 -1.000000e+00\n",
       "ADA          Ouroboros       PoS     3.190692e+10  4.500000e+10\n",
       "AEON  CryptoNight-Lite       PoW     1.777472e+07 -1.000000e+00\n",
       "AION     Equihash210,9   PoW/PoS     4.874969e+08 -1.000000e+00\n",
       "AMB             Dagger       PoA     6.649843e+08 -1.000000e+00\n",
       "...                ...       ...              ...           ...\n",
       "XVG           Multiple       PoW     1.642954e+10  1.655500e+10\n",
       "XWC             Scrypt   PoW/PoS     9.106302e+08  1.000000e+09\n",
       "ZEC           Equihash       PoW     1.078766e+07  2.100000e+07\n",
       "ZEL           Equihash   PoW/PoS     1.215844e+08  2.100000e+08\n",
       "ZEN           Equihash       PoW     1.075646e+07  2.100000e+07\n",
       "\n",
       "[109 rows x 4 columns]"
      ],
      "text/html": "<div>\n<style scoped>\n    .dataframe tbody tr th:only-of-type {\n        vertical-align: middle;\n    }\n\n    .dataframe tbody tr th {\n        vertical-align: top;\n    }\n\n    .dataframe thead th {\n        text-align: right;\n    }\n</style>\n<table border=\"1\" class=\"dataframe\">\n  <thead>\n    <tr style=\"text-align: right;\">\n      <th></th>\n      <th>Algorithm</th>\n      <th>ProofType</th>\n      <th>TotalCoinsMined</th>\n      <th>MaxSupply</th>\n    </tr>\n  </thead>\n  <tbody>\n    <tr>\n      <th>AAC</th>\n      <td>ECC 256K1</td>\n      <td>DPOS</td>\n      <td>1.000000e+09</td>\n      <td>-1.000000e+00</td>\n    </tr>\n    <tr>\n      <th>ADA</th>\n      <td>Ouroboros</td>\n      <td>PoS</td>\n      <td>3.190692e+10</td>\n      <td>4.500000e+10</td>\n    </tr>\n    <tr>\n      <th>AEON</th>\n      <td>CryptoNight-Lite</td>\n      <td>PoW</td>\n      <td>1.777472e+07</td>\n      <td>-1.000000e+00</td>\n    </tr>\n    <tr>\n      <th>AION</th>\n      <td>Equihash210,9</td>\n      <td>PoW/PoS</td>\n      <td>4.874969e+08</td>\n      <td>-1.000000e+00</td>\n    </tr>\n    <tr>\n      <th>AMB</th>\n      <td>Dagger</td>\n      <td>PoA</td>\n      <td>6.649843e+08</td>\n      <td>-1.000000e+00</td>\n    </tr>\n    <tr>\n      <th>...</th>\n      <td>...</td>\n      <td>...</td>\n      <td>...</td>\n      <td>...</td>\n    </tr>\n    <tr>\n      <th>XVG</th>\n      <td>Multiple</td>\n      <td>PoW</td>\n      <td>1.642954e+10</td>\n      <td>1.655500e+10</td>\n    </tr>\n    <tr>\n      <th>XWC</th>\n      <td>Scrypt</td>\n      <td>PoW/PoS</td>\n      <td>9.106302e+08</td>\n      <td>1.000000e+09</td>\n    </tr>\n    <tr>\n      <th>ZEC</th>\n      <td>Equihash</td>\n      <td>PoW</td>\n      <td>1.078766e+07</td>\n      <td>2.100000e+07</td>\n    </tr>\n    <tr>\n      <th>ZEL</th>\n      <td>Equihash</td>\n      <td>PoW/PoS</td>\n      <td>1.215844e+08</td>\n      <td>2.100000e+08</td>\n    </tr>\n    <tr>\n      <th>ZEN</th>\n      <td>Equihash</td>\n      <td>PoW</td>\n      <td>1.075646e+07</td>\n      <td>2.100000e+07</td>\n    </tr>\n  </tbody>\n</table>\n<p>109 rows × 4 columns</p>\n</div>"
     },
     "metadata": {},
     "execution_count": 10
    }
   ],
   "source": [
    "# Drop the 'CoinName' column since it's not going to be used on the clustering algorithm\n",
    "crypto_df.drop(columns=\"CoinName\", inplace=True)\n",
    "crypto_df"
   ]
  },
  {
   "cell_type": "code",
   "execution_count": 11,
   "metadata": {},
   "outputs": [
    {
     "output_type": "execute_result",
     "data": {
      "text/plain": [
       "      Algorithm_BEP2 Token  Algorithm_BLAKE256  Algorithm_BMW512 / Echo512  \\\n",
       "AAC                      0                   0                           0   \n",
       "ADA                      0                   0                           0   \n",
       "AEON                     0                   0                           0   \n",
       "AION                     0                   0                           0   \n",
       "AMB                      0                   0                           0   \n",
       "...                    ...                 ...                         ...   \n",
       "XVG                      0                   0                           0   \n",
       "XWC                      0                   0                           0   \n",
       "ZEC                      0                   0                           0   \n",
       "ZEL                      0                   0                           0   \n",
       "ZEN                      0                   0                           0   \n",
       "\n",
       "      Algorithm_Blake2B + SHA3  Algorithm_Blake2b  Algorithm_C31  \\\n",
       "AAC                          0                  0              0   \n",
       "ADA                          0                  0              0   \n",
       "AEON                         0                  0              0   \n",
       "AION                         0                  0              0   \n",
       "AMB                          0                  0              0   \n",
       "...                        ...                ...            ...   \n",
       "XVG                          0                  0              0   \n",
       "XWC                          0                  0              0   \n",
       "ZEC                          0                  0              0   \n",
       "ZEL                          0                  0              0   \n",
       "ZEN                          0                  0              0   \n",
       "\n",
       "      Algorithm_CryptoNight  Algorithm_CryptoNight-Heavy  \\\n",
       "AAC                       0                            0   \n",
       "ADA                       0                            0   \n",
       "AEON                      0                            0   \n",
       "AION                      0                            0   \n",
       "AMB                       0                            0   \n",
       "...                     ...                          ...   \n",
       "XVG                       0                            0   \n",
       "XWC                       0                            0   \n",
       "ZEC                       0                            0   \n",
       "ZEL                       0                            0   \n",
       "ZEN                       0                            0   \n",
       "\n",
       "      Algorithm_CryptoNight-Lite  Algorithm_DPoS  ...  ProofType_PoW/PoS  \\\n",
       "AAC                            0               0  ...                  0   \n",
       "ADA                            0               0  ...                  0   \n",
       "AEON                           1               0  ...                  0   \n",
       "AION                           0               0  ...                  1   \n",
       "AMB                            0               0  ...                  0   \n",
       "...                          ...             ...  ...                ...   \n",
       "XVG                            0               0  ...                  0   \n",
       "XWC                            0               0  ...                  1   \n",
       "ZEC                            0               0  ...                  0   \n",
       "ZEL                            0               0  ...                  1   \n",
       "ZEN                            0               0  ...                  0   \n",
       "\n",
       "      ProofType_PoW/PoSe  ProofType_PoW/nPoS  ProofType_Proof of Authority  \\\n",
       "AAC                    0                   0                             0   \n",
       "ADA                    0                   0                             0   \n",
       "AEON                   0                   0                             0   \n",
       "AION                   0                   0                             0   \n",
       "AMB                    0                   0                             0   \n",
       "...                  ...                 ...                           ...   \n",
       "XVG                    0                   0                             0   \n",
       "XWC                    0                   0                             0   \n",
       "ZEC                    0                   0                             0   \n",
       "ZEL                    0                   0                             0   \n",
       "ZEN                    0                   0                             0   \n",
       "\n",
       "      ProofType_SPoS  ProofType_TPoS  ProofType_Zero-Knowledge Proof  \\\n",
       "AAC                0               0                               0   \n",
       "ADA                0               0                               0   \n",
       "AEON               0               0                               0   \n",
       "AION               0               0                               0   \n",
       "AMB                0               0                               0   \n",
       "...              ...             ...                             ...   \n",
       "XVG                0               0                               0   \n",
       "XWC                0               0                               0   \n",
       "ZEC                0               0                               0   \n",
       "ZEL                0               0                               0   \n",
       "ZEN                0               0                               0   \n",
       "\n",
       "      ProofType_dPoW/PoW  ProofType_mPoW  TotalCoinsMined  \n",
       "AAC                    0               0     1.000000e+09  \n",
       "ADA                    0               0     3.190692e+10  \n",
       "AEON                   0               0     1.777472e+07  \n",
       "AION                   0               0     4.874969e+08  \n",
       "AMB                    0               0     6.649843e+08  \n",
       "...                  ...             ...              ...  \n",
       "XVG                    0               0     1.642954e+10  \n",
       "XWC                    0               0     9.106302e+08  \n",
       "ZEC                    0               0     1.078766e+07  \n",
       "ZEL                    0               0     1.215844e+08  \n",
       "ZEN                    0               0     1.075646e+07  \n",
       "\n",
       "[109 rows x 70 columns]"
      ],
      "text/html": "<div>\n<style scoped>\n    .dataframe tbody tr th:only-of-type {\n        vertical-align: middle;\n    }\n\n    .dataframe tbody tr th {\n        vertical-align: top;\n    }\n\n    .dataframe thead th {\n        text-align: right;\n    }\n</style>\n<table border=\"1\" class=\"dataframe\">\n  <thead>\n    <tr style=\"text-align: right;\">\n      <th></th>\n      <th>Algorithm_BEP2 Token</th>\n      <th>Algorithm_BLAKE256</th>\n      <th>Algorithm_BMW512 / Echo512</th>\n      <th>Algorithm_Blake2B + SHA3</th>\n      <th>Algorithm_Blake2b</th>\n      <th>Algorithm_C31</th>\n      <th>Algorithm_CryptoNight</th>\n      <th>Algorithm_CryptoNight-Heavy</th>\n      <th>Algorithm_CryptoNight-Lite</th>\n      <th>Algorithm_DPoS</th>\n      <th>...</th>\n      <th>ProofType_PoW/PoS</th>\n      <th>ProofType_PoW/PoSe</th>\n      <th>ProofType_PoW/nPoS</th>\n      <th>ProofType_Proof of Authority</th>\n      <th>ProofType_SPoS</th>\n      <th>ProofType_TPoS</th>\n      <th>ProofType_Zero-Knowledge Proof</th>\n      <th>ProofType_dPoW/PoW</th>\n      <th>ProofType_mPoW</th>\n      <th>TotalCoinsMined</th>\n    </tr>\n  </thead>\n  <tbody>\n    <tr>\n      <th>AAC</th>\n      <td>0</td>\n      <td>0</td>\n      <td>0</td>\n      <td>0</td>\n      <td>0</td>\n      <td>0</td>\n      <td>0</td>\n      <td>0</td>\n      <td>0</td>\n      <td>0</td>\n      <td>...</td>\n      <td>0</td>\n      <td>0</td>\n      <td>0</td>\n      <td>0</td>\n      <td>0</td>\n      <td>0</td>\n      <td>0</td>\n      <td>0</td>\n      <td>0</td>\n      <td>1.000000e+09</td>\n    </tr>\n    <tr>\n      <th>ADA</th>\n      <td>0</td>\n      <td>0</td>\n      <td>0</td>\n      <td>0</td>\n      <td>0</td>\n      <td>0</td>\n      <td>0</td>\n      <td>0</td>\n      <td>0</td>\n      <td>0</td>\n      <td>...</td>\n      <td>0</td>\n      <td>0</td>\n      <td>0</td>\n      <td>0</td>\n      <td>0</td>\n      <td>0</td>\n      <td>0</td>\n      <td>0</td>\n      <td>0</td>\n      <td>3.190692e+10</td>\n    </tr>\n    <tr>\n      <th>AEON</th>\n      <td>0</td>\n      <td>0</td>\n      <td>0</td>\n      <td>0</td>\n      <td>0</td>\n      <td>0</td>\n      <td>0</td>\n      <td>0</td>\n      <td>1</td>\n      <td>0</td>\n      <td>...</td>\n      <td>0</td>\n      <td>0</td>\n      <td>0</td>\n      <td>0</td>\n      <td>0</td>\n      <td>0</td>\n      <td>0</td>\n      <td>0</td>\n      <td>0</td>\n      <td>1.777472e+07</td>\n    </tr>\n    <tr>\n      <th>AION</th>\n      <td>0</td>\n      <td>0</td>\n      <td>0</td>\n      <td>0</td>\n      <td>0</td>\n      <td>0</td>\n      <td>0</td>\n      <td>0</td>\n      <td>0</td>\n      <td>0</td>\n      <td>...</td>\n      <td>1</td>\n      <td>0</td>\n      <td>0</td>\n      <td>0</td>\n      <td>0</td>\n      <td>0</td>\n      <td>0</td>\n      <td>0</td>\n      <td>0</td>\n      <td>4.874969e+08</td>\n    </tr>\n    <tr>\n      <th>AMB</th>\n      <td>0</td>\n      <td>0</td>\n      <td>0</td>\n      <td>0</td>\n      <td>0</td>\n      <td>0</td>\n      <td>0</td>\n      <td>0</td>\n      <td>0</td>\n      <td>0</td>\n      <td>...</td>\n      <td>0</td>\n      <td>0</td>\n      <td>0</td>\n      <td>0</td>\n      <td>0</td>\n      <td>0</td>\n      <td>0</td>\n      <td>0</td>\n      <td>0</td>\n      <td>6.649843e+08</td>\n    </tr>\n    <tr>\n      <th>...</th>\n      <td>...</td>\n      <td>...</td>\n      <td>...</td>\n      <td>...</td>\n      <td>...</td>\n      <td>...</td>\n      <td>...</td>\n      <td>...</td>\n      <td>...</td>\n      <td>...</td>\n      <td>...</td>\n      <td>...</td>\n      <td>...</td>\n      <td>...</td>\n      <td>...</td>\n      <td>...</td>\n      <td>...</td>\n      <td>...</td>\n      <td>...</td>\n      <td>...</td>\n      <td>...</td>\n    </tr>\n    <tr>\n      <th>XVG</th>\n      <td>0</td>\n      <td>0</td>\n      <td>0</td>\n      <td>0</td>\n      <td>0</td>\n      <td>0</td>\n      <td>0</td>\n      <td>0</td>\n      <td>0</td>\n      <td>0</td>\n      <td>...</td>\n      <td>0</td>\n      <td>0</td>\n      <td>0</td>\n      <td>0</td>\n      <td>0</td>\n      <td>0</td>\n      <td>0</td>\n      <td>0</td>\n      <td>0</td>\n      <td>1.642954e+10</td>\n    </tr>\n    <tr>\n      <th>XWC</th>\n      <td>0</td>\n      <td>0</td>\n      <td>0</td>\n      <td>0</td>\n      <td>0</td>\n      <td>0</td>\n      <td>0</td>\n      <td>0</td>\n      <td>0</td>\n      <td>0</td>\n      <td>...</td>\n      <td>1</td>\n      <td>0</td>\n      <td>0</td>\n      <td>0</td>\n      <td>0</td>\n      <td>0</td>\n      <td>0</td>\n      <td>0</td>\n      <td>0</td>\n      <td>9.106302e+08</td>\n    </tr>\n    <tr>\n      <th>ZEC</th>\n      <td>0</td>\n      <td>0</td>\n      <td>0</td>\n      <td>0</td>\n      <td>0</td>\n      <td>0</td>\n      <td>0</td>\n      <td>0</td>\n      <td>0</td>\n      <td>0</td>\n      <td>...</td>\n      <td>0</td>\n      <td>0</td>\n      <td>0</td>\n      <td>0</td>\n      <td>0</td>\n      <td>0</td>\n      <td>0</td>\n      <td>0</td>\n      <td>0</td>\n      <td>1.078766e+07</td>\n    </tr>\n    <tr>\n      <th>ZEL</th>\n      <td>0</td>\n      <td>0</td>\n      <td>0</td>\n      <td>0</td>\n      <td>0</td>\n      <td>0</td>\n      <td>0</td>\n      <td>0</td>\n      <td>0</td>\n      <td>0</td>\n      <td>...</td>\n      <td>1</td>\n      <td>0</td>\n      <td>0</td>\n      <td>0</td>\n      <td>0</td>\n      <td>0</td>\n      <td>0</td>\n      <td>0</td>\n      <td>0</td>\n      <td>1.215844e+08</td>\n    </tr>\n    <tr>\n      <th>ZEN</th>\n      <td>0</td>\n      <td>0</td>\n      <td>0</td>\n      <td>0</td>\n      <td>0</td>\n      <td>0</td>\n      <td>0</td>\n      <td>0</td>\n      <td>0</td>\n      <td>0</td>\n      <td>...</td>\n      <td>0</td>\n      <td>0</td>\n      <td>0</td>\n      <td>0</td>\n      <td>0</td>\n      <td>0</td>\n      <td>0</td>\n      <td>0</td>\n      <td>0</td>\n      <td>1.075646e+07</td>\n    </tr>\n  </tbody>\n</table>\n<p>109 rows × 70 columns</p>\n</div>"
     },
     "metadata": {},
     "execution_count": 11
    }
   ],
   "source": [
    "# Create dummy variables for text features\n",
    "dummies = pd.get_dummies(crypto_df[[\"Algorithm\", \"ProofType\"]])\n",
    "crypto_features_df = pd.concat([dummies, crypto_df.TotalCoinsMined], axis=1)\n",
    "crypto_features_df"
   ]
  },
  {
   "cell_type": "code",
   "execution_count": 12,
   "metadata": {},
   "outputs": [
    {
     "output_type": "stream",
     "name": "stdout",
     "text": [
      "[[-0.09622504 -0.13671719 -0.09622504 -0.09622504 -0.13671719 -0.13671719\n  -0.13671719 -0.09622504 -0.09622504 -0.2192645  -0.13671719 -0.09622504\n  10.39230485 -0.09622504 -0.3        -0.09622504 -0.2192645  -0.09622504\n  -0.09622504 -0.09622504 -0.09622504 -0.09622504 -0.09622504 -0.09622504\n  -0.13671719 -0.09622504 -0.09622504 -0.13671719 -0.13671719 -0.09622504\n  -0.16823165 -0.13671719 -0.35172623 -0.13671719 -0.09622504 -0.09622504\n  -0.09622504 -0.42986348 -0.09622504 -0.09622504 -0.09622504 -0.09622504\n  -0.09622504 -0.19518001 -0.09622504 -0.19518001 -0.09622504 -0.09622504\n  -0.09622504 10.39230485 -0.2413554  -0.09622504 -0.09622504 -0.13671719\n  -0.13671719 -0.09622504 -0.28143902 -0.09622504 -0.09622504 -1.00921678\n  -0.48850421 -0.09622504 -0.09622504 -0.09622504 -0.09622504 -0.09622504\n  -0.09622504 -0.09622504 -0.09622504 -0.17502319]\n [-0.09622504 -0.13671719 -0.09622504 -0.09622504 -0.13671719 -0.13671719\n  -0.13671719 -0.09622504 -0.09622504 -0.2192645  -0.13671719 -0.09622504\n  -0.09622504 -0.09622504 -0.3        -0.09622504 -0.2192645  -0.09622504\n  -0.09622504 -0.09622504 -0.09622504 -0.09622504 -0.09622504 -0.09622504\n  -0.13671719 -0.09622504 10.39230485 -0.13671719 -0.13671719 -0.09622504\n  -0.16823165 -0.13671719 -0.35172623 -0.13671719 -0.09622504 -0.09622504\n  -0.09622504 -0.42986348 -0.09622504 -0.09622504 -0.09622504 -0.09622504\n  -0.09622504 -0.19518001 -0.09622504 -0.19518001 -0.09622504 -0.09622504\n  -0.09622504 -0.09622504 -0.2413554  -0.09622504 -0.09622504 -0.13671719\n  -0.13671719 -0.09622504  3.5531676  -0.09622504 -0.09622504 -1.00921678\n  -0.48850421 -0.09622504 -0.09622504 -0.09622504 -0.09622504 -0.09622504\n  -0.09622504 -0.09622504 -0.09622504  0.05419622]]\n"
     ]
    }
   ],
   "source": [
    "# Standardize data\n",
    "crypto_scaled = StandardScaler().fit_transform(crypto_features_df)\n",
    "print(crypto_scaled[0:2])"
   ]
  },
  {
   "cell_type": "markdown",
   "metadata": {},
   "source": [
    "### Reducing Dimensions Using PCA"
   ]
  },
  {
   "cell_type": "code",
   "execution_count": 13,
   "metadata": {},
   "outputs": [],
   "source": [
    "# Use PCA to reduce dimensions to 3 principal components\n",
    "pca = PCA(n_components=3)\n",
    "crypto_pca = pca.fit_transform(crypto_scaled)"
   ]
  },
  {
   "cell_type": "code",
   "execution_count": 14,
   "metadata": {},
   "outputs": [
    {
     "output_type": "execute_result",
     "data": {
      "text/plain": [
       "          PC 1      PC 2      PC 3\n",
       "AAC   1.748882 -1.030330  2.996862\n",
       "ADA   1.895165 -0.106950 -0.924198\n",
       "AEON -1.629064  0.115888  0.156843\n",
       "AION  1.648128 -1.544495 -1.556438\n",
       "AMB   1.829419 -0.374583  5.803898\n",
       "...        ...       ...       ...\n",
       "XVG  -1.635794  0.206757  0.155187\n",
       "XWC   1.011248 -1.213101 -1.247386\n",
       "ZEC  -1.343103 -0.038467  0.050878\n",
       "ZEL   0.560359 -0.936375 -0.816088\n",
       "ZEN  -1.343103 -0.038467  0.050878\n",
       "\n",
       "[109 rows x 3 columns]"
      ],
      "text/html": "<div>\n<style scoped>\n    .dataframe tbody tr th:only-of-type {\n        vertical-align: middle;\n    }\n\n    .dataframe tbody tr th {\n        vertical-align: top;\n    }\n\n    .dataframe thead th {\n        text-align: right;\n    }\n</style>\n<table border=\"1\" class=\"dataframe\">\n  <thead>\n    <tr style=\"text-align: right;\">\n      <th></th>\n      <th>PC 1</th>\n      <th>PC 2</th>\n      <th>PC 3</th>\n    </tr>\n  </thead>\n  <tbody>\n    <tr>\n      <th>AAC</th>\n      <td>1.748882</td>\n      <td>-1.030330</td>\n      <td>2.996862</td>\n    </tr>\n    <tr>\n      <th>ADA</th>\n      <td>1.895165</td>\n      <td>-0.106950</td>\n      <td>-0.924198</td>\n    </tr>\n    <tr>\n      <th>AEON</th>\n      <td>-1.629064</td>\n      <td>0.115888</td>\n      <td>0.156843</td>\n    </tr>\n    <tr>\n      <th>AION</th>\n      <td>1.648128</td>\n      <td>-1.544495</td>\n      <td>-1.556438</td>\n    </tr>\n    <tr>\n      <th>AMB</th>\n      <td>1.829419</td>\n      <td>-0.374583</td>\n      <td>5.803898</td>\n    </tr>\n    <tr>\n      <th>...</th>\n      <td>...</td>\n      <td>...</td>\n      <td>...</td>\n    </tr>\n    <tr>\n      <th>XVG</th>\n      <td>-1.635794</td>\n      <td>0.206757</td>\n      <td>0.155187</td>\n    </tr>\n    <tr>\n      <th>XWC</th>\n      <td>1.011248</td>\n      <td>-1.213101</td>\n      <td>-1.247386</td>\n    </tr>\n    <tr>\n      <th>ZEC</th>\n      <td>-1.343103</td>\n      <td>-0.038467</td>\n      <td>0.050878</td>\n    </tr>\n    <tr>\n      <th>ZEL</th>\n      <td>0.560359</td>\n      <td>-0.936375</td>\n      <td>-0.816088</td>\n    </tr>\n    <tr>\n      <th>ZEN</th>\n      <td>-1.343103</td>\n      <td>-0.038467</td>\n      <td>0.050878</td>\n    </tr>\n  </tbody>\n</table>\n<p>109 rows × 3 columns</p>\n</div>"
     },
     "metadata": {},
     "execution_count": 14
    }
   ],
   "source": [
    "# Create a DataFrame with the principal components data\n",
    "df_crypto_pca = pd.DataFrame(\n",
    "    data=crypto_pca, \n",
    "    columns=[\"PC 1\", \"PC 2\", \"PC 3\"]\n",
    ")\n",
    "df_crypto_pca.index = crypto_df.index\n",
    "df_crypto_pca"
   ]
  },
  {
   "cell_type": "markdown",
   "metadata": {},
   "source": [
    "### Clustering Crytocurrencies Using K-Means\n",
    "\n",
    "#### Finding the Best Value for `k` Using the Elbow Curve"
   ]
  },
  {
   "cell_type": "code",
   "execution_count": 15,
   "metadata": {},
   "outputs": [
    {
     "output_type": "display_data",
     "data": {},
     "metadata": {}
    },
    {
     "output_type": "execute_result",
     "data": {
      "text/html": "<div id='1001'>\n\n\n\n\n\n  <div class=\"bk-root\" id=\"675f1c39-ed29-4edc-b9a9-bf3c0ed9f69a\" data-root-id=\"1001\"></div>\n</div>\n<script type=\"application/javascript\">(function(root) {\n  function embed_document(root) {\n    var docs_json = {\"fef3b54e-86ad-45a3-9d81-5c58d424609f\":{\"roots\":{\"references\":[{\"attributes\":{},\"id\":\"1037\",\"type\":\"Selection\"},{\"attributes\":{\"data_source\":{\"id\":\"1036\"},\"glyph\":{\"id\":\"1039\"},\"hover_glyph\":null,\"muted_glyph\":{\"id\":\"1041\"},\"nonselection_glyph\":{\"id\":\"1040\"},\"selection_glyph\":null,\"view\":{\"id\":\"1043\"}},\"id\":\"1042\",\"type\":\"GlyphRenderer\"},{\"attributes\":{\"line_color\":\"#1f77b3\",\"line_width\":2,\"x\":{\"field\":\"k\"},\"y\":{\"field\":\"inertia\"}},\"id\":\"1039\",\"type\":\"Line\"},{\"attributes\":{\"axis\":{\"id\":\"1019\"},\"dimension\":1,\"grid_line_color\":null,\"ticker\":null},\"id\":\"1022\",\"type\":\"Grid\"},{\"attributes\":{\"bottom_units\":\"screen\",\"fill_alpha\":0.5,\"fill_color\":\"lightgrey\",\"left_units\":\"screen\",\"level\":\"overlay\",\"line_alpha\":1.0,\"line_color\":\"black\",\"line_dash\":[4,4],\"line_width\":2,\"right_units\":\"screen\",\"top_units\":\"screen\"},\"id\":\"1028\",\"type\":\"BoxAnnotation\"},{\"attributes\":{\"text\":\"Elbow Curve\",\"text_color\":{\"value\":\"black\"},\"text_font_size\":{\"value\":\"12pt\"}},\"id\":\"1007\",\"type\":\"Title\"},{\"attributes\":{\"ticks\":[1,2,3,4,5,6,7,8,9,10]},\"id\":\"1044\",\"type\":\"FixedTicker\"},{\"attributes\":{\"below\":[{\"id\":\"1015\"}],\"center\":[{\"id\":\"1018\"},{\"id\":\"1022\"}],\"left\":[{\"id\":\"1019\"}],\"margin\":[5,5,5,5],\"min_border_bottom\":10,\"min_border_left\":10,\"min_border_right\":10,\"min_border_top\":10,\"plot_height\":300,\"plot_width\":700,\"renderers\":[{\"id\":\"1042\"}],\"sizing_mode\":\"fixed\",\"title\":{\"id\":\"1007\"},\"toolbar\":{\"id\":\"1029\"},\"x_range\":{\"id\":\"1003\"},\"x_scale\":{\"id\":\"1011\"},\"y_range\":{\"id\":\"1004\"},\"y_scale\":{\"id\":\"1013\"}},\"id\":\"1006\",\"subtype\":\"Figure\",\"type\":\"Plot\"},{\"attributes\":{\"source\":{\"id\":\"1036\"}},\"id\":\"1043\",\"type\":\"CDSView\"},{\"attributes\":{\"active_drag\":\"auto\",\"active_inspect\":\"auto\",\"active_multi\":null,\"active_scroll\":\"auto\",\"active_tap\":\"auto\",\"tools\":[{\"id\":\"1005\"},{\"id\":\"1023\"},{\"id\":\"1024\"},{\"id\":\"1025\"},{\"id\":\"1026\"},{\"id\":\"1027\"}]},\"id\":\"1029\",\"type\":\"Toolbar\"},{\"attributes\":{\"margin\":[5,5,5,5],\"name\":\"HSpacer01539\",\"sizing_mode\":\"stretch_width\"},\"id\":\"1065\",\"type\":\"Spacer\"},{\"attributes\":{\"end\":10.0,\"reset_end\":10.0,\"reset_start\":1.0,\"start\":1.0,\"tags\":[[[\"k\",\"k\",null]]]},\"id\":\"1003\",\"type\":\"Range1d\"},{\"attributes\":{},\"id\":\"1023\",\"type\":\"SaveTool\"},{\"attributes\":{},\"id\":\"1024\",\"type\":\"PanTool\"},{\"attributes\":{\"data\":{\"inertia\":{\"__ndarray__\":\"+L12KwijhkDDPYJJlwV+QAsnNIqWkXFAW+o/p6yRW0BhQ80XWIdSQMkgpgSmXExA17OiUSljR0D0/GEtPbhCQPfGRWCRSjxAQkc8WexgMkA=\",\"dtype\":\"float64\",\"order\":\"little\",\"shape\":[10]},\"k\":[1,2,3,4,5,6,7,8,9,10]},\"selected\":{\"id\":\"1037\"},\"selection_policy\":{\"id\":\"1055\"}},\"id\":\"1036\",\"type\":\"ColumnDataSource\"},{\"attributes\":{},\"id\":\"1027\",\"type\":\"ResetTool\"},{\"attributes\":{\"children\":[{\"id\":\"1002\"},{\"id\":\"1006\"},{\"id\":\"1065\"}],\"margin\":[0,0,0,0],\"name\":\"Row01534\",\"tags\":[\"embedded\"]},\"id\":\"1001\",\"type\":\"Row\"},{\"attributes\":{},\"id\":\"1025\",\"type\":\"WheelZoomTool\"},{\"attributes\":{},\"id\":\"1046\",\"type\":\"BasicTickFormatter\"},{\"attributes\":{},\"id\":\"1011\",\"type\":\"LinearScale\"},{\"attributes\":{\"overlay\":{\"id\":\"1028\"}},\"id\":\"1026\",\"type\":\"BoxZoomTool\"},{\"attributes\":{\"line_alpha\":0.1,\"line_color\":\"#1f77b3\",\"line_width\":2,\"x\":{\"field\":\"k\"},\"y\":{\"field\":\"inertia\"}},\"id\":\"1040\",\"type\":\"Line\"},{\"attributes\":{},\"id\":\"1055\",\"type\":\"UnionRenderers\"},{\"attributes\":{\"axis_label\":\"k\",\"bounds\":\"auto\",\"formatter\":{\"id\":\"1046\"},\"major_label_orientation\":\"horizontal\",\"ticker\":{\"id\":\"1044\"}},\"id\":\"1015\",\"type\":\"LinearAxis\"},{\"attributes\":{\"margin\":[5,5,5,5],\"name\":\"HSpacer01538\",\"sizing_mode\":\"stretch_width\"},\"id\":\"1002\",\"type\":\"Spacer\"},{\"attributes\":{},\"id\":\"1013\",\"type\":\"LinearScale\"},{\"attributes\":{\"end\":794.9790274264507,\"reset_end\":794.9790274264507,\"reset_start\":-52.22143188269539,\"start\":-52.22143188269539,\"tags\":[[[\"inertia\",\"inertia\",null]]]},\"id\":\"1004\",\"type\":\"Range1d\"},{\"attributes\":{},\"id\":\"1050\",\"type\":\"BasicTickFormatter\"},{\"attributes\":{\"line_alpha\":0.2,\"line_color\":\"#1f77b3\",\"line_width\":2,\"x\":{\"field\":\"k\"},\"y\":{\"field\":\"inertia\"}},\"id\":\"1041\",\"type\":\"Line\"},{\"attributes\":{\"axis_label\":\"inertia\",\"bounds\":\"auto\",\"formatter\":{\"id\":\"1050\"},\"major_label_orientation\":\"horizontal\",\"ticker\":{\"id\":\"1020\"}},\"id\":\"1019\",\"type\":\"LinearAxis\"},{\"attributes\":{\"axis\":{\"id\":\"1015\"},\"grid_line_color\":null,\"ticker\":null},\"id\":\"1018\",\"type\":\"Grid\"},{\"attributes\":{\"callback\":null,\"renderers\":[{\"id\":\"1042\"}],\"tags\":[\"hv_created\"],\"tooltips\":[[\"k\",\"@{k}\"],[\"inertia\",\"@{inertia}\"]]},\"id\":\"1005\",\"type\":\"HoverTool\"},{\"attributes\":{},\"id\":\"1020\",\"type\":\"BasicTicker\"}],\"root_ids\":[\"1001\"]},\"title\":\"Bokeh Application\",\"version\":\"2.2.3\"}};\n    var render_items = [{\"docid\":\"fef3b54e-86ad-45a3-9d81-5c58d424609f\",\"root_ids\":[\"1001\"],\"roots\":{\"1001\":\"675f1c39-ed29-4edc-b9a9-bf3c0ed9f69a\"}}];\n    root.Bokeh.embed.embed_items_notebook(docs_json, render_items);\n  }\n  if (root.Bokeh !== undefined && root.Bokeh.Panel !== undefined) {\n    embed_document(root);\n  } else {\n    var attempts = 0;\n    var timer = setInterval(function(root) {\n      if (root.Bokeh !== undefined && root.Bokeh.Panel !== undefined) {\n        clearInterval(timer);\n        embed_document(root);\n      } else if (document.readyState == \"complete\") {\n        attempts++;\n        if (attempts > 100) {\n          clearInterval(timer);\n          console.log(\"Bokeh: ERROR: Unable to run BokehJS code because BokehJS library is missing\");\n        }\n      }\n    }, 10, root)\n  }\n})(window);</script>",
      "application/vnd.holoviews_exec.v0+json": "",
      "text/plain": [
       ":Curve   [k]   (inertia)"
      ]
     },
     "metadata": {
      "application/vnd.holoviews_exec.v0+json": {
       "id": "1001"
      }
     },
     "execution_count": 15
    }
   ],
   "source": [
    "inertia = []\n",
    "k = list(range(1, 11))\n",
    "\n",
    "# Calculate the inertia for the range of k values\n",
    "for i in k:\n",
    "    km = KMeans(n_clusters=i, random_state=0)\n",
    "    km.fit(df_crypto_pca)\n",
    "    inertia.append(km.inertia_)\n",
    "\n",
    "# Create the Elbow Curve using hvPlot\n",
    "elbow_data = {\"k\": k, \"inertia\": inertia}\n",
    "df_elbow = pd.DataFrame(elbow_data)\n",
    "df_elbow.hvplot.line(\n",
    "    x=\"k\", \n",
    "    y=\"inertia\", \n",
    "    xticks=k, \n",
    "    title=\"Elbow Curve\"\n",
    ")"
   ]
  },
  {
   "cell_type": "markdown",
   "metadata": {},
   "source": [
    "Running K-Means with `k=4`"
   ]
  },
  {
   "cell_type": "code",
   "execution_count": 16,
   "metadata": {},
   "outputs": [
    {
     "output_type": "execute_result",
     "data": {
      "text/plain": [
       "             Algorithm ProofType  TotalCoinsMined     MaxSupply      PC 1  \\\n",
       "AAC          ECC 256K1      DPOS     1.000000e+09 -1.000000e+00  1.748882   \n",
       "ADA          Ouroboros       PoS     3.190692e+10  4.500000e+10  1.895165   \n",
       "AEON  CryptoNight-Lite       PoW     1.777472e+07 -1.000000e+00 -1.629064   \n",
       "AION     Equihash210,9   PoW/PoS     4.874969e+08 -1.000000e+00  1.648128   \n",
       "AMB             Dagger       PoA     6.649843e+08 -1.000000e+00  1.829419   \n",
       "...                ...       ...              ...           ...       ...   \n",
       "XVG           Multiple       PoW     1.642954e+10  1.655500e+10 -1.635794   \n",
       "XWC             Scrypt   PoW/PoS     9.106302e+08  1.000000e+09  1.011248   \n",
       "ZEC           Equihash       PoW     1.078766e+07  2.100000e+07 -1.343103   \n",
       "ZEL           Equihash   PoW/PoS     1.215844e+08  2.100000e+08  0.560359   \n",
       "ZEN           Equihash       PoW     1.075646e+07  2.100000e+07 -1.343103   \n",
       "\n",
       "          PC 2      PC 3           CoinName  Class  \n",
       "AAC  -1.030330  2.996862  Acute Angle Cloud      2  \n",
       "ADA  -0.106950 -0.924198            Cardano      0  \n",
       "AEON  0.115888  0.156843               AEON      1  \n",
       "AION -1.544495 -1.556438               Aion      0  \n",
       "AMB  -0.374583  5.803898              Amber      2  \n",
       "...        ...       ...                ...    ...  \n",
       "XVG   0.206757  0.155187              Verge      1  \n",
       "XWC  -1.213101 -1.247386          WhiteCoin      0  \n",
       "ZEC  -0.038467  0.050878              ZCash      1  \n",
       "ZEL  -0.936375 -0.816088            Zelcash      0  \n",
       "ZEN  -0.038467  0.050878            Horizen      1  \n",
       "\n",
       "[109 rows x 9 columns]"
      ],
      "text/html": "<div>\n<style scoped>\n    .dataframe tbody tr th:only-of-type {\n        vertical-align: middle;\n    }\n\n    .dataframe tbody tr th {\n        vertical-align: top;\n    }\n\n    .dataframe thead th {\n        text-align: right;\n    }\n</style>\n<table border=\"1\" class=\"dataframe\">\n  <thead>\n    <tr style=\"text-align: right;\">\n      <th></th>\n      <th>Algorithm</th>\n      <th>ProofType</th>\n      <th>TotalCoinsMined</th>\n      <th>MaxSupply</th>\n      <th>PC 1</th>\n      <th>PC 2</th>\n      <th>PC 3</th>\n      <th>CoinName</th>\n      <th>Class</th>\n    </tr>\n  </thead>\n  <tbody>\n    <tr>\n      <th>AAC</th>\n      <td>ECC 256K1</td>\n      <td>DPOS</td>\n      <td>1.000000e+09</td>\n      <td>-1.000000e+00</td>\n      <td>1.748882</td>\n      <td>-1.030330</td>\n      <td>2.996862</td>\n      <td>Acute Angle Cloud</td>\n      <td>2</td>\n    </tr>\n    <tr>\n      <th>ADA</th>\n      <td>Ouroboros</td>\n      <td>PoS</td>\n      <td>3.190692e+10</td>\n      <td>4.500000e+10</td>\n      <td>1.895165</td>\n      <td>-0.106950</td>\n      <td>-0.924198</td>\n      <td>Cardano</td>\n      <td>0</td>\n    </tr>\n    <tr>\n      <th>AEON</th>\n      <td>CryptoNight-Lite</td>\n      <td>PoW</td>\n      <td>1.777472e+07</td>\n      <td>-1.000000e+00</td>\n      <td>-1.629064</td>\n      <td>0.115888</td>\n      <td>0.156843</td>\n      <td>AEON</td>\n      <td>1</td>\n    </tr>\n    <tr>\n      <th>AION</th>\n      <td>Equihash210,9</td>\n      <td>PoW/PoS</td>\n      <td>4.874969e+08</td>\n      <td>-1.000000e+00</td>\n      <td>1.648128</td>\n      <td>-1.544495</td>\n      <td>-1.556438</td>\n      <td>Aion</td>\n      <td>0</td>\n    </tr>\n    <tr>\n      <th>AMB</th>\n      <td>Dagger</td>\n      <td>PoA</td>\n      <td>6.649843e+08</td>\n      <td>-1.000000e+00</td>\n      <td>1.829419</td>\n      <td>-0.374583</td>\n      <td>5.803898</td>\n      <td>Amber</td>\n      <td>2</td>\n    </tr>\n    <tr>\n      <th>...</th>\n      <td>...</td>\n      <td>...</td>\n      <td>...</td>\n      <td>...</td>\n      <td>...</td>\n      <td>...</td>\n      <td>...</td>\n      <td>...</td>\n      <td>...</td>\n    </tr>\n    <tr>\n      <th>XVG</th>\n      <td>Multiple</td>\n      <td>PoW</td>\n      <td>1.642954e+10</td>\n      <td>1.655500e+10</td>\n      <td>-1.635794</td>\n      <td>0.206757</td>\n      <td>0.155187</td>\n      <td>Verge</td>\n      <td>1</td>\n    </tr>\n    <tr>\n      <th>XWC</th>\n      <td>Scrypt</td>\n      <td>PoW/PoS</td>\n      <td>9.106302e+08</td>\n      <td>1.000000e+09</td>\n      <td>1.011248</td>\n      <td>-1.213101</td>\n      <td>-1.247386</td>\n      <td>WhiteCoin</td>\n      <td>0</td>\n    </tr>\n    <tr>\n      <th>ZEC</th>\n      <td>Equihash</td>\n      <td>PoW</td>\n      <td>1.078766e+07</td>\n      <td>2.100000e+07</td>\n      <td>-1.343103</td>\n      <td>-0.038467</td>\n      <td>0.050878</td>\n      <td>ZCash</td>\n      <td>1</td>\n    </tr>\n    <tr>\n      <th>ZEL</th>\n      <td>Equihash</td>\n      <td>PoW/PoS</td>\n      <td>1.215844e+08</td>\n      <td>2.100000e+08</td>\n      <td>0.560359</td>\n      <td>-0.936375</td>\n      <td>-0.816088</td>\n      <td>Zelcash</td>\n      <td>0</td>\n    </tr>\n    <tr>\n      <th>ZEN</th>\n      <td>Equihash</td>\n      <td>PoW</td>\n      <td>1.075646e+07</td>\n      <td>2.100000e+07</td>\n      <td>-1.343103</td>\n      <td>-0.038467</td>\n      <td>0.050878</td>\n      <td>Horizen</td>\n      <td>1</td>\n    </tr>\n  </tbody>\n</table>\n<p>109 rows × 9 columns</p>\n</div>"
     },
     "metadata": {},
     "execution_count": 16
    }
   ],
   "source": [
    "# Initialize the K-Means model\n",
    "model = KMeans(n_clusters=4, random_state=0)\n",
    "# Fit the model\n",
    "model.fit(df_crypto_pca)\n",
    "# Predict clusters\n",
    "predictions = model.predict(df_crypto_pca)\n",
    "# Create a new DataFrame including predicted clusters and cryptocurrencies features\n",
    "grouped_data = pd.concat([crypto_df, df_crypto_pca, coin_names], axis=1)\n",
    "grouped_data[\"Class\"] = predictions\n",
    "grouped_data"
   ]
  },
  {
   "cell_type": "markdown",
   "metadata": {},
   "source": [
    "### Visualizing Results\n",
    "\n",
    "#### 3D-Scatter with Clusters"
   ]
  },
  {
   "cell_type": "code",
   "execution_count": 17,
   "metadata": {},
   "outputs": [
    {
     "output_type": "display_data",
     "data": {
      "application/vnd.plotly.v1+json": {
       "config": {
        "plotlyServerURL": "https://plot.ly"
       },
       "data": [
        {
         "hovertemplate": "Class=%{marker.color}<br>PC 3=%{x}<br>PC 2=%{y}<br>PC 1=%{z}<extra></extra>",
         "legendgroup": "2",
         "marker": {
          "color": [
           2,
           2,
           2,
           2,
           2,
           2,
           2,
           2,
           2,
           2,
           2
          ],
          "coloraxis": "coloraxis",
          "symbol": "circle"
         },
         "mode": "markers",
         "name": "2",
         "scene": "scene",
         "showlegend": true,
         "type": "scatter3d",
         "x": [
          2.99686193650257,
          5.803897810189914,
          3.003603863096736,
          5.752585944960734,
          3.0009631358328703,
          3.004380363397607,
          3.004428450708356,
          5.776302848597012,
          2.306101050802259,
          2.958119780018677,
          3.0041420816748925
         ],
         "y": [
          -1.0303301974186614,
          -0.3745832401275489,
          -1.061745844012526,
          0.0535559911564154,
          -1.0494407331025823,
          -1.065364136005605,
          -1.0655882105239876,
          -0.5577098556287345,
          2.1884381413987204,
          -0.8498016972544781,
          -1.0642538043673653
         ],
         "z": [
          1.7488822682433505,
          1.8294187279193284,
          1.7480760907773225,
          1.8396209193138808,
          1.748391860280971,
          1.7479832394185806,
          1.7479774892957332,
          1.8132618673085734,
          1.8314811889898142,
          1.753514928226255,
          1.7480117323653726
         ]
        },
        {
         "hovertemplate": "Class=%{marker.color}<br>PC 3=%{x}<br>PC 2=%{y}<br>PC 1=%{z}<extra></extra>",
         "legendgroup": "0",
         "marker": {
          "color": [
           0,
           0,
           0,
           0,
           0,
           0,
           0,
           0,
           0,
           0,
           0,
           0,
           0,
           0,
           0,
           0,
           0,
           0,
           0,
           0,
           0,
           0,
           0,
           0,
           0,
           0,
           0,
           0,
           0,
           0,
           0,
           0,
           0
          ],
          "coloraxis": "coloraxis",
          "symbol": "diamond"
         },
         "mode": "markers",
         "name": "0",
         "scene": "scene",
         "showlegend": true,
         "type": "scatter3d",
         "x": [
          -0.9241976934390259,
          -1.556437797463732,
          -1.2472987476407094,
          -1.517616176886722,
          -0.9242709840918205,
          -1.5855561187793519,
          -0.6007483723831147,
          -1.24739517194511,
          -1.51759712322766,
          -0.5090648201309171,
          -1.5706755052183536,
          -0.7888990342239228,
          -1.5706786941549273,
          -0.9181699281007429,
          -1.0815372680091537,
          -1.5176035468886513,
          -1.2472971789686331,
          -0.9181939072221695,
          -1.5855617934093422,
          -1.2473190569600607,
          -1.5855817632816134,
          -0.9264673962704535,
          -1.2502452501134795,
          -0.8542725332113387,
          -0.7637244615743681,
          -1.247296971874615,
          -1.1945773430477593,
          -0.9264594069489741,
          -1.556363118515399,
          -1.5573200058217844,
          -0.5090857027894489,
          -1.2473863867509518,
          -0.8160880645044545
         ],
         "y": [
          -0.10694969046309313,
          -1.5444952551388829,
          -1.2158107474539832,
          -1.4321309488051206,
          -0.534729330923638,
          -1.5721725360989884,
          -0.916949899757873,
          -1.2128292416727133,
          -1.432720101042239,
          -0.8910319437015821,
          -1.5595348781471068,
          -0.5824753282006587,
          -1.5594362740359349,
          -0.2815724445324971,
          -1.2312214637887986,
          -1.432521477028269,
          -1.2158592518730098,
          -0.2808777757806995,
          -1.5719970726386023,
          -1.2151827693375148,
          -1.5713795904592107,
          -0.28832516077134673,
          -1.1247028653523028,
          1.40952492873287,
          -0.8753247156320849,
          -1.2158656553624152,
          -0.7513918332544262,
          -0.2885721960839369,
          -1.5466586843530554,
          -1.518937914316705,
          -0.8904269786539313,
          -1.213100885915686,
          -0.9363753531367996
         ],
         "z": [
          1.8951646864761726,
          1.6481279915508036,
          1.0111078320095044,
          1.7089859734403103,
          1.1496655229980843,
          1.6707595297510334,
          1.1943749375809052,
          1.0112619681418253,
          1.7089555157944645,
          0.9283972676555629,
          1.6591916094483297,
          0.27946100352664943,
          1.659196707025676,
          1.8867698923294416,
          1.213873239155713,
          1.7089657841419188,
          1.011105324456578,
          1.8868032877549241,
          1.6707686007578135,
          1.0111402968528278,
          1.6708005229883542,
          1.8993660780360024,
          1.0158178737136943,
          2.049434840442395,
          0.7476299461610666,
          1.011104993412749,
          1.8475259683541683,
          1.899353306949705,
          1.6480239871041849,
          1.6493566322069544,
          0.9284263506755156,
          1.011247924837519,
          0.5603587473814502
         ]
        },
        {
         "hovertemplate": "Class=%{marker.color}<br>PC 3=%{x}<br>PC 2=%{y}<br>PC 1=%{z}<extra></extra>",
         "legendgroup": "1",
         "marker": {
          "color": [
           1,
           1,
           1,
           1,
           1,
           1,
           1,
           1,
           1,
           1,
           1,
           1,
           1,
           1,
           1,
           1,
           1,
           1,
           1,
           1,
           1,
           1,
           1,
           1,
           1,
           1,
           1,
           1,
           1,
           1,
           1,
           1,
           1,
           1,
           1,
           1,
           1,
           1,
           1,
           1,
           1,
           1,
           1,
           1,
           1,
           1,
           1,
           1,
           1,
           1,
           1,
           1,
           1,
           1,
           1,
           1,
           1,
           1
          ],
          "coloraxis": "coloraxis",
          "symbol": "square"
         },
         "mode": "markers",
         "name": "1",
         "scene": "scene",
         "showlegend": true,
         "type": "scatter3d",
         "x": [
          0.15684330289354828,
          0.07805400643591068,
          0.07805845170665604,
          0.07805845259115006,
          0.13107390825482793,
          0.14906970029493932,
          0.05087218803728451,
          0.07805845188281221,
          0.07805845425272996,
          0.050878221964039086,
          0.07805920164367232,
          0.05001265187700478,
          0.050876764691891806,
          0.15652514239327886,
          0.15084207340138409,
          0.16261035579738878,
          0.15542290475858223,
          -0.3929469653470558,
          -0.38036391040560824,
          0.1628824080688903,
          0.1628834218922817,
          0.16287297954462907,
          0.162891280698532,
          0.15684451498998994,
          0.15680054248721603,
          0.15828137722794675,
          0.15683181281385047,
          0.15677790584629314,
          0.015486957045818631,
          -0.38034874617836695,
          -0.38034603491551316,
          -0.3803500867367367,
          0.15828623818511922,
          0.1559739774289095,
          -0.38039423927766286,
          0.07805858278378089,
          0.3597381851073235,
          -0.3803519906166631,
          -0.21459923686274202,
          0.1582790976668178,
          0.15527416455256157,
          0.1513663776774564,
          0.15684306937643788,
          0.15634044944390282,
          0.22513486694962231,
          0.07800067223135008,
          0.015505134199412319,
          0.15683701108259301,
          0.0780582209873687,
          -0.3803444384368099,
          0.15683535229538742,
          -0.020242913355238402,
          0.07806002824539884,
          0.15684393584249287,
          0.15828454699654082,
          0.15518710034058184,
          0.050877536921569905,
          0.05087753998935386
         ],
         "y": [
          0.11588782785555314,
          0.31582109083704485,
          0.3156836400096144,
          0.31568361266049216,
          0.9221157984085937,
          0.3656735368904713,
          -0.03830193044561115,
          0.3156836345627339,
          0.315683561283265,
          -0.03848850360902062,
          0.3156604514415104,
          -0.011724481461039946,
          -0.03844344375238591,
          0.1251048526856897,
          0.28974184554079785,
          0.1303822120810652,
          0.19946571574770683,
          0.07212524330261448,
          -0.3169514660091753,
          0.1219701688174378,
          0.12193882070118918,
          0.12226170526946754,
          0.12169582100919024,
          0.11585271374500411,
          0.11712658542161158,
          0.11699265730101151,
          0.11622069239970872,
          0.11778236287125775,
          -0.3450734610801611,
          -0.3174203543404808,
          -0.3175041884518427,
          -0.31737890335409086,
          0.11684235316346207,
          0.17918107129567656,
          -0.31601367643493,
          0.3156795870147953,
          -0.26668796539346606,
          -0.3173200340778949,
          -0.3324609402774165,
          0.11705920196414571,
          0.1613453470590419,
          0.3216512232153129,
          0.11589459278397518,
          0.13045535816614545,
          0.002324610025959517,
          0.31747022110795103,
          -0.3456000483713448,
          0.11607009994098516,
          0.31569077400858586,
          -0.3175535526708831,
          0.11611815456367923,
          3.3552294273490046,
          0.31563489234785136,
          0.11586949149343977,
          0.11689070494283794,
          0.2067569504616454,
          -0.038467321624922474,
          -0.038467416482911285
         ],
         "z": [
          -1.6290637533130312,
          -1.6239805571226638,
          -1.6239876629746977,
          -1.6239876643885742,
          -1.6004343751705832,
          -1.6292009999374575,
          -1.3430943416018295,
          -1.6239876632562862,
          -1.6239876670446471,
          -1.343103986951499,
          -1.623988861763653,
          -1.3417203562756361,
          -1.3431016574735326,
          -1.6286206551239815,
          -1.6207059153106047,
          -1.6750388640948735,
          -1.6361704501499383,
          -0.8721903712258999,
          -0.8923046301101307,
          -1.6754737449600097,
          -1.675475365576485,
          -1.675458673279979,
          -1.6754879280316446,
          -1.6290654413847359,
          -1.6290042014246209,
          -1.640116708642684,
          -1.6290477512213142,
          -1.6289726756551075,
          -0.19672231455761996,
          -0.8923288704233064,
          -0.8923332044298892,
          -0.8923267275145913,
          -1.6401244789775864,
          -1.6373933007975034,
          -0.8922561488162771,
          -1.6239878725040406,
          0.0924717602395699,
          -0.8923236841253744,
          -0.6895443284934804,
          -1.6401134799931765,
          -1.6268784337756756,
          -1.630027962676761,
          -1.62906342809664,
          -1.6283634355403827,
          -1.1752078685657066,
          -1.6238953013558461,
          -0.1967476296543455,
          -1.6290549907858103,
          -1.6239872941654152,
          -0.8923357564322518,
          -1.6290526806134193,
          -1.4668510125564314,
          -1.6239901831026453,
          -1.6290646348131905,
          -1.6401221908530832,
          -1.6357935121860034,
          -1.3431028918977435,
          -1.3431028968016558
         ]
        },
        {
         "hovertemplate": "Class=%{marker.color}<br>PC 3=%{x}<br>PC 2=%{y}<br>PC 1=%{z}<extra></extra>",
         "legendgroup": "3",
         "marker": {
          "color": [
           3,
           3,
           3,
           3,
           3,
           3,
           3
          ],
          "coloraxis": "coloraxis",
          "symbol": "x"
         },
         "mode": "markers",
         "name": "3",
         "scene": "scene",
         "showlegend": true,
         "type": "scatter3d",
         "x": [
          -0.7360771793642064,
          -0.6122833658488492,
          -0.8767460822954766,
          -0.7361628668843689,
          -0.4532920722786074,
          -0.7360759878337667,
          -0.7360633470917382
         ],
         "y": [
          3.7401373769146704,
          3.579294502361873,
          9.599669832009733,
          3.742786893946104,
          2.4282991842092083,
          3.7401005339743816,
          3.73970967354068
         ],
         "z": [
          2.2261663429664393,
          2.150407777034035,
          2.458633573723926,
          2.226303316139627,
          1.9974335425261374,
          2.226164438281779,
          2.2261442318089615
         ]
        }
       ],
       "layout": {
        "coloraxis": {
         "colorbar": {
          "title": {
           "text": "Class"
          }
         },
         "colorscale": [
          [
           0,
           "rgb(0,0,255)"
          ],
          [
           0.1,
           "rgb(51,153,255)"
          ],
          [
           0.2,
           "rgb(102,204,255)"
          ],
          [
           0.3,
           "rgb(153,204,255)"
          ],
          [
           0.4,
           "rgb(204,204,255)"
          ],
          [
           0.5,
           "rgb(255,255,255)"
          ],
          [
           0.6,
           "rgb(255,204,255)"
          ],
          [
           0.7,
           "rgb(255,153,255)"
          ],
          [
           0.8,
           "rgb(255,102,204)"
          ],
          [
           0.9,
           "rgb(255,102,102)"
          ],
          [
           1,
           "rgb(255,0,0)"
          ]
         ]
        },
        "legend": {
         "title": {
          "text": "Class"
         },
         "tracegroupgap": 0,
         "x": 0,
         "y": 1
        },
        "margin": {
         "t": 60
        },
        "scene": {
         "domain": {
          "x": [
           0,
           1
          ],
          "y": [
           0,
           1
          ]
         },
         "xaxis": {
          "title": {
           "text": "PC 3"
          }
         },
         "yaxis": {
          "title": {
           "text": "PC 2"
          }
         },
         "zaxis": {
          "title": {
           "text": "PC 1"
          }
         }
        },
        "template": {
         "data": {
          "bar": [
           {
            "error_x": {
             "color": "#2a3f5f"
            },
            "error_y": {
             "color": "#2a3f5f"
            },
            "marker": {
             "line": {
              "color": "#E5ECF6",
              "width": 0.5
             }
            },
            "type": "bar"
           }
          ],
          "barpolar": [
           {
            "marker": {
             "line": {
              "color": "#E5ECF6",
              "width": 0.5
             }
            },
            "type": "barpolar"
           }
          ],
          "carpet": [
           {
            "aaxis": {
             "endlinecolor": "#2a3f5f",
             "gridcolor": "white",
             "linecolor": "white",
             "minorgridcolor": "white",
             "startlinecolor": "#2a3f5f"
            },
            "baxis": {
             "endlinecolor": "#2a3f5f",
             "gridcolor": "white",
             "linecolor": "white",
             "minorgridcolor": "white",
             "startlinecolor": "#2a3f5f"
            },
            "type": "carpet"
           }
          ],
          "choropleth": [
           {
            "colorbar": {
             "outlinewidth": 0,
             "ticks": ""
            },
            "type": "choropleth"
           }
          ],
          "contour": [
           {
            "colorbar": {
             "outlinewidth": 0,
             "ticks": ""
            },
            "colorscale": [
             [
              0,
              "#0d0887"
             ],
             [
              0.1111111111111111,
              "#46039f"
             ],
             [
              0.2222222222222222,
              "#7201a8"
             ],
             [
              0.3333333333333333,
              "#9c179e"
             ],
             [
              0.4444444444444444,
              "#bd3786"
             ],
             [
              0.5555555555555556,
              "#d8576b"
             ],
             [
              0.6666666666666666,
              "#ed7953"
             ],
             [
              0.7777777777777778,
              "#fb9f3a"
             ],
             [
              0.8888888888888888,
              "#fdca26"
             ],
             [
              1,
              "#f0f921"
             ]
            ],
            "type": "contour"
           }
          ],
          "contourcarpet": [
           {
            "colorbar": {
             "outlinewidth": 0,
             "ticks": ""
            },
            "type": "contourcarpet"
           }
          ],
          "heatmap": [
           {
            "colorbar": {
             "outlinewidth": 0,
             "ticks": ""
            },
            "colorscale": [
             [
              0,
              "#0d0887"
             ],
             [
              0.1111111111111111,
              "#46039f"
             ],
             [
              0.2222222222222222,
              "#7201a8"
             ],
             [
              0.3333333333333333,
              "#9c179e"
             ],
             [
              0.4444444444444444,
              "#bd3786"
             ],
             [
              0.5555555555555556,
              "#d8576b"
             ],
             [
              0.6666666666666666,
              "#ed7953"
             ],
             [
              0.7777777777777778,
              "#fb9f3a"
             ],
             [
              0.8888888888888888,
              "#fdca26"
             ],
             [
              1,
              "#f0f921"
             ]
            ],
            "type": "heatmap"
           }
          ],
          "heatmapgl": [
           {
            "colorbar": {
             "outlinewidth": 0,
             "ticks": ""
            },
            "colorscale": [
             [
              0,
              "#0d0887"
             ],
             [
              0.1111111111111111,
              "#46039f"
             ],
             [
              0.2222222222222222,
              "#7201a8"
             ],
             [
              0.3333333333333333,
              "#9c179e"
             ],
             [
              0.4444444444444444,
              "#bd3786"
             ],
             [
              0.5555555555555556,
              "#d8576b"
             ],
             [
              0.6666666666666666,
              "#ed7953"
             ],
             [
              0.7777777777777778,
              "#fb9f3a"
             ],
             [
              0.8888888888888888,
              "#fdca26"
             ],
             [
              1,
              "#f0f921"
             ]
            ],
            "type": "heatmapgl"
           }
          ],
          "histogram": [
           {
            "marker": {
             "colorbar": {
              "outlinewidth": 0,
              "ticks": ""
             }
            },
            "type": "histogram"
           }
          ],
          "histogram2d": [
           {
            "colorbar": {
             "outlinewidth": 0,
             "ticks": ""
            },
            "colorscale": [
             [
              0,
              "#0d0887"
             ],
             [
              0.1111111111111111,
              "#46039f"
             ],
             [
              0.2222222222222222,
              "#7201a8"
             ],
             [
              0.3333333333333333,
              "#9c179e"
             ],
             [
              0.4444444444444444,
              "#bd3786"
             ],
             [
              0.5555555555555556,
              "#d8576b"
             ],
             [
              0.6666666666666666,
              "#ed7953"
             ],
             [
              0.7777777777777778,
              "#fb9f3a"
             ],
             [
              0.8888888888888888,
              "#fdca26"
             ],
             [
              1,
              "#f0f921"
             ]
            ],
            "type": "histogram2d"
           }
          ],
          "histogram2dcontour": [
           {
            "colorbar": {
             "outlinewidth": 0,
             "ticks": ""
            },
            "colorscale": [
             [
              0,
              "#0d0887"
             ],
             [
              0.1111111111111111,
              "#46039f"
             ],
             [
              0.2222222222222222,
              "#7201a8"
             ],
             [
              0.3333333333333333,
              "#9c179e"
             ],
             [
              0.4444444444444444,
              "#bd3786"
             ],
             [
              0.5555555555555556,
              "#d8576b"
             ],
             [
              0.6666666666666666,
              "#ed7953"
             ],
             [
              0.7777777777777778,
              "#fb9f3a"
             ],
             [
              0.8888888888888888,
              "#fdca26"
             ],
             [
              1,
              "#f0f921"
             ]
            ],
            "type": "histogram2dcontour"
           }
          ],
          "mesh3d": [
           {
            "colorbar": {
             "outlinewidth": 0,
             "ticks": ""
            },
            "type": "mesh3d"
           }
          ],
          "parcoords": [
           {
            "line": {
             "colorbar": {
              "outlinewidth": 0,
              "ticks": ""
             }
            },
            "type": "parcoords"
           }
          ],
          "pie": [
           {
            "automargin": true,
            "type": "pie"
           }
          ],
          "scatter": [
           {
            "marker": {
             "colorbar": {
              "outlinewidth": 0,
              "ticks": ""
             }
            },
            "type": "scatter"
           }
          ],
          "scatter3d": [
           {
            "line": {
             "colorbar": {
              "outlinewidth": 0,
              "ticks": ""
             }
            },
            "marker": {
             "colorbar": {
              "outlinewidth": 0,
              "ticks": ""
             }
            },
            "type": "scatter3d"
           }
          ],
          "scattercarpet": [
           {
            "marker": {
             "colorbar": {
              "outlinewidth": 0,
              "ticks": ""
             }
            },
            "type": "scattercarpet"
           }
          ],
          "scattergeo": [
           {
            "marker": {
             "colorbar": {
              "outlinewidth": 0,
              "ticks": ""
             }
            },
            "type": "scattergeo"
           }
          ],
          "scattergl": [
           {
            "marker": {
             "colorbar": {
              "outlinewidth": 0,
              "ticks": ""
             }
            },
            "type": "scattergl"
           }
          ],
          "scattermapbox": [
           {
            "marker": {
             "colorbar": {
              "outlinewidth": 0,
              "ticks": ""
             }
            },
            "type": "scattermapbox"
           }
          ],
          "scatterpolar": [
           {
            "marker": {
             "colorbar": {
              "outlinewidth": 0,
              "ticks": ""
             }
            },
            "type": "scatterpolar"
           }
          ],
          "scatterpolargl": [
           {
            "marker": {
             "colorbar": {
              "outlinewidth": 0,
              "ticks": ""
             }
            },
            "type": "scatterpolargl"
           }
          ],
          "scatterternary": [
           {
            "marker": {
             "colorbar": {
              "outlinewidth": 0,
              "ticks": ""
             }
            },
            "type": "scatterternary"
           }
          ],
          "surface": [
           {
            "colorbar": {
             "outlinewidth": 0,
             "ticks": ""
            },
            "colorscale": [
             [
              0,
              "#0d0887"
             ],
             [
              0.1111111111111111,
              "#46039f"
             ],
             [
              0.2222222222222222,
              "#7201a8"
             ],
             [
              0.3333333333333333,
              "#9c179e"
             ],
             [
              0.4444444444444444,
              "#bd3786"
             ],
             [
              0.5555555555555556,
              "#d8576b"
             ],
             [
              0.6666666666666666,
              "#ed7953"
             ],
             [
              0.7777777777777778,
              "#fb9f3a"
             ],
             [
              0.8888888888888888,
              "#fdca26"
             ],
             [
              1,
              "#f0f921"
             ]
            ],
            "type": "surface"
           }
          ],
          "table": [
           {
            "cells": {
             "fill": {
              "color": "#EBF0F8"
             },
             "line": {
              "color": "white"
             }
            },
            "header": {
             "fill": {
              "color": "#C8D4E3"
             },
             "line": {
              "color": "white"
             }
            },
            "type": "table"
           }
          ]
         },
         "layout": {
          "annotationdefaults": {
           "arrowcolor": "#2a3f5f",
           "arrowhead": 0,
           "arrowwidth": 1
          },
          "autotypenumbers": "strict",
          "coloraxis": {
           "colorbar": {
            "outlinewidth": 0,
            "ticks": ""
           }
          },
          "colorscale": {
           "diverging": [
            [
             0,
             "#8e0152"
            ],
            [
             0.1,
             "#c51b7d"
            ],
            [
             0.2,
             "#de77ae"
            ],
            [
             0.3,
             "#f1b6da"
            ],
            [
             0.4,
             "#fde0ef"
            ],
            [
             0.5,
             "#f7f7f7"
            ],
            [
             0.6,
             "#e6f5d0"
            ],
            [
             0.7,
             "#b8e186"
            ],
            [
             0.8,
             "#7fbc41"
            ],
            [
             0.9,
             "#4d9221"
            ],
            [
             1,
             "#276419"
            ]
           ],
           "sequential": [
            [
             0,
             "#0d0887"
            ],
            [
             0.1111111111111111,
             "#46039f"
            ],
            [
             0.2222222222222222,
             "#7201a8"
            ],
            [
             0.3333333333333333,
             "#9c179e"
            ],
            [
             0.4444444444444444,
             "#bd3786"
            ],
            [
             0.5555555555555556,
             "#d8576b"
            ],
            [
             0.6666666666666666,
             "#ed7953"
            ],
            [
             0.7777777777777778,
             "#fb9f3a"
            ],
            [
             0.8888888888888888,
             "#fdca26"
            ],
            [
             1,
             "#f0f921"
            ]
           ],
           "sequentialminus": [
            [
             0,
             "#0d0887"
            ],
            [
             0.1111111111111111,
             "#46039f"
            ],
            [
             0.2222222222222222,
             "#7201a8"
            ],
            [
             0.3333333333333333,
             "#9c179e"
            ],
            [
             0.4444444444444444,
             "#bd3786"
            ],
            [
             0.5555555555555556,
             "#d8576b"
            ],
            [
             0.6666666666666666,
             "#ed7953"
            ],
            [
             0.7777777777777778,
             "#fb9f3a"
            ],
            [
             0.8888888888888888,
             "#fdca26"
            ],
            [
             1,
             "#f0f921"
            ]
           ]
          },
          "colorway": [
           "#636efa",
           "#EF553B",
           "#00cc96",
           "#ab63fa",
           "#FFA15A",
           "#19d3f3",
           "#FF6692",
           "#B6E880",
           "#FF97FF",
           "#FECB52"
          ],
          "font": {
           "color": "#2a3f5f"
          },
          "geo": {
           "bgcolor": "white",
           "lakecolor": "white",
           "landcolor": "#E5ECF6",
           "showlakes": true,
           "showland": true,
           "subunitcolor": "white"
          },
          "hoverlabel": {
           "align": "left"
          },
          "hovermode": "closest",
          "mapbox": {
           "style": "light"
          },
          "paper_bgcolor": "white",
          "plot_bgcolor": "#E5ECF6",
          "polar": {
           "angularaxis": {
            "gridcolor": "white",
            "linecolor": "white",
            "ticks": ""
           },
           "bgcolor": "#E5ECF6",
           "radialaxis": {
            "gridcolor": "white",
            "linecolor": "white",
            "ticks": ""
           }
          },
          "scene": {
           "xaxis": {
            "backgroundcolor": "#E5ECF6",
            "gridcolor": "white",
            "gridwidth": 2,
            "linecolor": "white",
            "showbackground": true,
            "ticks": "",
            "zerolinecolor": "white"
           },
           "yaxis": {
            "backgroundcolor": "#E5ECF6",
            "gridcolor": "white",
            "gridwidth": 2,
            "linecolor": "white",
            "showbackground": true,
            "ticks": "",
            "zerolinecolor": "white"
           },
           "zaxis": {
            "backgroundcolor": "#E5ECF6",
            "gridcolor": "white",
            "gridwidth": 2,
            "linecolor": "white",
            "showbackground": true,
            "ticks": "",
            "zerolinecolor": "white"
           }
          },
          "shapedefaults": {
           "line": {
            "color": "#2a3f5f"
           }
          },
          "ternary": {
           "aaxis": {
            "gridcolor": "white",
            "linecolor": "white",
            "ticks": ""
           },
           "baxis": {
            "gridcolor": "white",
            "linecolor": "white",
            "ticks": ""
           },
           "bgcolor": "#E5ECF6",
           "caxis": {
            "gridcolor": "white",
            "linecolor": "white",
            "ticks": ""
           }
          },
          "title": {
           "x": 0.05
          },
          "xaxis": {
           "automargin": true,
           "gridcolor": "white",
           "linecolor": "white",
           "ticks": "",
           "title": {
            "standoff": 15
           },
           "zerolinecolor": "white",
           "zerolinewidth": 2
          },
          "yaxis": {
           "automargin": true,
           "gridcolor": "white",
           "linecolor": "white",
           "ticks": "",
           "title": {
            "standoff": 15
           },
           "zerolinecolor": "white",
           "zerolinewidth": 2
          }
         }
        },
        "width": 800
       }
      }
     },
     "metadata": {}
    }
   ],
   "source": [
    "# Create a 3D-Scatter with the PCA data and the clusters\n",
    "fig = px.scatter_3d(\n",
    "    grouped_data,\n",
    "    x=\"PC 3\",\n",
    "    y=\"PC 2\",\n",
    "    z=\"PC 1\",\n",
    "    color=\"Class\",\n",
    "    symbol=\"Class\",\n",
    "    width=800,\n",
    "    color_continuous_scale=\"picnic\"\n",
    ")\n",
    "fig.update_layout(legend=dict(x=0, y=1))\n",
    "fig.show()\n"
   ]
  },
  {
   "cell_type": "markdown",
   "metadata": {},
   "source": [
    "#### Table of Tradable Cryptocurrencies"
   ]
  },
  {
   "cell_type": "code",
   "execution_count": 18,
   "metadata": {},
   "outputs": [
    {
     "output_type": "display_data",
     "data": {},
     "metadata": {}
    },
    {
     "output_type": "execute_result",
     "data": {
      "text/html": "<div id='1102'>\n\n\n\n\n\n  <div class=\"bk-root\" id=\"b8a4da78-374d-406a-889f-4f2156e69c06\" data-root-id=\"1102\"></div>\n</div>\n<script type=\"application/javascript\">(function(root) {\n  function embed_document(root) {\n    var docs_json = {\"8cad29bb-f589-495a-b9b9-e75749c4a3ab\":{\"roots\":{\"references\":[{\"attributes\":{\"editor\":{\"id\":\"1107\"},\"field\":\"CoinName\",\"formatter\":{\"id\":\"1106\"},\"title\":\"CoinName\"},\"id\":\"1108\",\"type\":\"TableColumn\"},{\"attributes\":{},\"id\":\"1111\",\"type\":\"StringFormatter\"},{\"attributes\":{},\"id\":\"1132\",\"type\":\"IntEditor\"},{\"attributes\":{\"format\":\"0,0.0[00000]\"},\"id\":\"1121\",\"type\":\"NumberFormatter\"},{\"attributes\":{\"editor\":{\"id\":\"1132\"},\"field\":\"Class\",\"formatter\":{\"id\":\"1131\"},\"title\":\"Class\"},\"id\":\"1133\",\"type\":\"TableColumn\"},{\"attributes\":{\"source\":{\"id\":\"1104\"}},\"id\":\"1137\",\"type\":\"CDSView\"},{\"attributes\":{},\"id\":\"1112\",\"type\":\"StringEditor\"},{\"attributes\":{\"margin\":[5,5,5,5],\"name\":\"HSpacer01705\",\"sizing_mode\":\"stretch_width\"},\"id\":\"1142\",\"type\":\"Spacer\"},{\"attributes\":{\"editor\":{\"id\":\"1127\"},\"field\":\"MaxSupply\",\"formatter\":{\"id\":\"1126\"},\"title\":\"MaxSupply\"},\"id\":\"1128\",\"type\":\"TableColumn\"},{\"attributes\":{\"margin\":[5,5,5,5],\"name\":\"HSpacer01704\",\"sizing_mode\":\"stretch_width\"},\"id\":\"1103\",\"type\":\"Spacer\"},{\"attributes\":{},\"id\":\"1122\",\"type\":\"NumberEditor\"},{\"attributes\":{},\"id\":\"1107\",\"type\":\"StringEditor\"},{\"attributes\":{\"editor\":{\"id\":\"1112\"},\"field\":\"Algorithm\",\"formatter\":{\"id\":\"1111\"},\"title\":\"Algorithm\"},\"id\":\"1113\",\"type\":\"TableColumn\"},{\"attributes\":{},\"id\":\"1116\",\"type\":\"StringFormatter\"},{\"attributes\":{\"format\":\"0,0.0[00000]\"},\"id\":\"1126\",\"type\":\"NumberFormatter\"},{\"attributes\":{},\"id\":\"1105\",\"type\":\"Selection\"},{\"attributes\":{},\"id\":\"1117\",\"type\":\"StringEditor\"},{\"attributes\":{},\"id\":\"1131\",\"type\":\"NumberFormatter\"},{\"attributes\":{},\"id\":\"1106\",\"type\":\"StringFormatter\"},{\"attributes\":{\"editor\":{\"id\":\"1122\"},\"field\":\"TotalCoinsMined\",\"formatter\":{\"id\":\"1121\"},\"title\":\"TotalCoinsMined\"},\"id\":\"1123\",\"type\":\"TableColumn\"},{\"attributes\":{\"columns\":[{\"id\":\"1108\"},{\"id\":\"1113\"},{\"id\":\"1118\"},{\"id\":\"1123\"},{\"id\":\"1128\"},{\"id\":\"1133\"}],\"height\":300,\"reorderable\":false,\"source\":{\"id\":\"1104\"},\"view\":{\"id\":\"1137\"},\"width\":700},\"id\":\"1136\",\"type\":\"DataTable\"},{\"attributes\":{\"editor\":{\"id\":\"1117\"},\"field\":\"ProofType\",\"formatter\":{\"id\":\"1116\"},\"title\":\"ProofType\"},\"id\":\"1118\",\"type\":\"TableColumn\"},{\"attributes\":{\"children\":[{\"id\":\"1103\"},{\"id\":\"1136\"},{\"id\":\"1142\"}],\"margin\":[0,0,0,0],\"name\":\"Row01700\",\"tags\":[\"embedded\"]},\"id\":\"1102\",\"type\":\"Row\"},{\"attributes\":{},\"id\":\"1127\",\"type\":\"NumberEditor\"},{\"attributes\":{\"data\":{\"Algorithm\":[\"ECC 256K1\",\"Ouroboros\",\"CryptoNight-Lite\",\"Equihash210,9\",\"Dagger\",\"SHA-256\",\"DPoS\",\"Scrypt\",\"X13\",\"SHA-256\",\"SHA-256\",\"CryptoNight\",\"CryptoNight\",\"Equihash\",\"Scrypt\",\"Quark\",\"BEP2 Token\",\"SHA-256\",\"SHA-256\",\"Equihash\",\"SHA-256\",\"Equihash\",\"Equihash\",\"Tensority\",\"SHA-512\",\"TRC10\",\"Shabal256\",\"Scrypt\",\"Eaglesong\",\"Ethash\",\"X13\",\"Dagger\",\"X11\",\"BLAKE256\",\"Multiple\",\"Scrypt\",\"SHA-256\",\"Scrypt\",\"DPoS\",\"Ethash\",\"Ethash\",\"Ethash\",\"Ethash\",\"MTP\",\"NeoScrypt\",\"C31\",\"Groestl\",\"BLAKE256\",\"Blake2B + SHA3\",\"Loopchain\",\"IMesh\",\"X11\",\"SHA-512\",\"Equihash\",\"DPoS\",\"Scrypt\",\"SPL Token\",\"Scrypt\",\"Scrypt\",\"C31\",\"Blake2b\",\"X13\",\"Scrypt\",\"SHA-256\",\"Scrypt\",\"SHA3\",\"PoS\",\"VBFT\",\"Quark\",\"Proof-of-Authority\",\"Scrypt\",\"Scrypt\",\"X11\",\"Quark\",\"RandomX\",\"POS 3.0\",\"Scrypt\",\"DPoS\",\"X16R\",\"Scrypt\",\"Blake2b\",\"DPoS\",\"X11GOST\",\"Scrypt\",\"KECCAK\",\"PoS\",\"X13\",\"SHA-256\",\"Equihash\",\"POS 3.0\",\"Dagger-Hashimoto\",\"SHA-256\",\"X16RT\",\"VeChainThor Authority\",\"Scrypt\",\"SPoS\",\"Lyra2REv2\",\"Leased POS\",\"SHA-256\",\"SHA-256\",\"BMW512 / Echo512\",\"CryptoNight-Heavy\",\"RandomX\",\"X11\",\"Multiple\",\"Scrypt\",\"Equihash\",\"Equihash\",\"Equihash\"],\"Class\":{\"__ndarray__\":\"AgAAAAAAAAABAAAAAAAAAAIAAAABAAAAAwAAAAAAAAAAAAAAAQAAAAEAAAABAAAAAQAAAAEAAAAAAAAAAAAAAAIAAAABAAAAAQAAAAEAAAABAAAAAQAAAAEAAAABAAAAAwAAAAMAAAAAAAAAAAAAAAEAAAABAAAAAAAAAAIAAAAAAAAAAAAAAAEAAAABAAAAAAAAAAEAAAADAAAAAQAAAAEAAAABAAAAAQAAAAEAAAABAAAAAQAAAAEAAAAAAAAAAQAAAAAAAAACAAAAAAAAAAMAAAABAAAAAwAAAAEAAAACAAAAAQAAAAEAAAABAAAAAQAAAAAAAAABAAAAAQAAAAAAAAACAAAAAQAAAAAAAAAAAAAAAgAAAAAAAAABAAAAAQAAAAAAAAABAAAAAAAAAAAAAAAAAAAAAQAAAAAAAAABAAAAAwAAAAEAAAAAAAAAAQAAAAEAAAAAAAAAAQAAAAEAAAAAAAAAAQAAAAEAAAAAAAAAAgAAAAEAAAACAAAAAQAAAAIAAAABAAAAAQAAAAAAAAABAAAAAQAAAAAAAAABAAAAAAAAAAEAAAAAAAAAAQAAAA==\",\"dtype\":\"int32\",\"order\":\"little\",\"shape\":[109]},\"CoinName\":[\"Acute Angle Cloud\",\"Cardano\",\"AEON\",\"Aion\",\"Amber\",\"Arweave\",\"ARK\",\"Auroracoin\",\"Bitcoin Diamond\",\"Bitcoin Cash\",\"Bitcoin ABC\",\"ByteCoin\",\"Beldex\",\"Beam\",\"BlackCoin\",\"BlockNet\",\"Binance Coin\",\"Bitcoin SV\",\"Bitcoin\",\"Bitcoin Private\",\"Bitcoin Vault\",\"BitcoinZ\",\"Bitcoin Gold\",\"Bytom\",\"Bitshares\",\"BitTorrent\",\"BurstCoin\",\"OpenChat\",\"Nervos Network\",\"Callisto Network\",\"CloakCoin\",\"DAPS Coin\",\"Dash\",\"Decred\",\"DigiByte\",\"Dogecoin\",\"Emercoin\",\"Einsteinium\",\"EOS\",\"Ethereum Classic\",\"Ethereum\",\"EtherZero\",\"Expanse\",\"Firo\",\"FeatherCoin\",\"Grin\",\"Groestlcoin\",\"HyperCash\",\"Handshake\",\"ICON Project\",\"INT\",\"IOCoin\",\"Kcash\",\"Komodo\",\"Lisk\",\"Litecoin\",\"MAPS\",\"MegaCoin\",\"MonaCoin\",\"MimbleWimbleCoin\",\"Nano\",\"NavCoin\",\"Gulden\",\"Namecoin\",\"NovaCoin\",\"Nexus\",\"Nxt\",\"Ontology\",\"Private Instant Verified Transaction\",\"Poa Network\",\"PotCoin\",\"Primas\",\"Pura\",\"QuarkCoin\",\"Quantum Resistant Ledger\",\"QTUM\",\"Reddcoin\",\"Rise\",\"Ravencoin Classic\",\"SafeExchangeCoin\",\"Siacoin\",\"Shift\",\"SibCoin\",\"SaluS\",\"SmartCash\",\"Steem\",\"Stratis\",\"SysCoin\",\"TENT\",\"TokenPay\",\"Ubiq\",\"UnitedBitcoin\",\"VEIL\",\"VeChain\",\"ViaCoin\",\"V Systems\",\"Vertcoin\",\"Waves\",\"Wibcoin\",\"CounterParty\",\"DigitalNote\",\"Haven Protocol\",\"Monero\",\"Stakenet\",\"Verge\",\"WhiteCoin\",\"ZCash\",\"Zelcash\",\"Horizen\"],\"MaxSupply\":{\"__ndarray__\":\"AAAAAAAA8L8AAAAEa/QkQgAAAAAAAPC/AAAAAAAA8L8AAAAAAADwvwAAAACkeI9BAAAAAAAA8L8AAAAA9AZ0QQAAAACxCKlB5WGh//MGdEHlYaH/8wZ0QQAAwGiieUVCAAAAAAAA8L8AAAAkF2avQQAAAACE15dBAAAAAAAA8L/NzMyHvsKkQeVhof/zBnRB5WGh//MGdEEAAABAX9B1QQAAAAD0BnRBAAAASMqOE0IAAAAA9AZ0QQAAAACxCKlBAADAEIvT6kEAAAAAAADwvwAAANCbFeBBAAAAAAAA8L8AAAAAAADwvwAAABDiNvhBAAAAAAAA8L8AAAA8U0wwQgAAAABCBnJBAAAAAPQGdEEAAABIyo4TQgAAAAAAAPC/AAAAAAAA8L8AAAAAAADwvwAAAAAAAPC/AAAAwA0eqUEAAAAAAADwvwAAAAAAAPC/AAAAAITXl0EAAAAAnGh0QQAAAAD0BrRBAAAAAAAA8L8AAAAAsQiZQQAAAAD0BpRBAAAAgPtl3kEAAAAAAADwvwAAAABlzc1BAAAAABj7dEEAAAAAAADwvwAAAACE16dBAAAAAAAA8L8AAAAA9AaUQQAAACBfoAJCAAAAAPQGhEEAAAAAAADwvwAAAADQEnNBAAAAiNTEn0EAAAAAAADwvwAAAACxCNlBAAAAAAAA8L8AAAAAAADwvwAAAAC+mJJBAAAAAGXNzUEAAAAAAADwvwAAAAAAAPC/AAAAAAAA8L8AAAAAsQi5QQAAAAAAAPC/AAAAAAAA8L8AAAAAAADwvwAAAACxCJlBAAAACfW0mUEAAAAAAADwvwAAAAAAAPC/AAAASMqOE0IAAAAAAADwvwAAAAAAAPC/AAAAAAAA8L8AAAAA9AZ0QQAAAAAAAPC/AAAAIF+g8kEAAAAAAADwvwAAAAAAAPC/AAAAAOd2ykEAAAAA0AyUQQAAAACE13dBAAAAAAAA8L8AAAAA9AZ0QQAAAACj4bFBAABizHkwNEIAAAAAAADwvwAAAAAAAPC/AAAAAPQGlEEAAAAAAADwv+wNE4u0Gm1CAAAAAAAA8L8AAAAAAADwvwAAAAAAAPC/AAAAAAAA8L8AAAAAAADwvwAAAAYK1g5CAAAAAGXNzUEAAAAA9AZ0QQAAAACxCKlBAAAAAPQGdEE=\",\"dtype\":\"float64\",\"order\":\"little\",\"shape\":[109]},\"ProofType\":[\"DPOS\",\"PoS\",\"PoW\",\"PoW/PoS\",\"PoA\",\"PoW\",\"DPoS\",\"PoW/PoS\",\"PoW/PoS\",\"PoW\",\"PoW\",\"PoW\",\"PoW\",\"PoW\",\"PoS\",\"PoW/PoS\",\"PoSA\",\"PoW\",\"PoW\",\"PoW\",\"PoW\",\"PoW\",\"PoW\",\"PoW\",\"DPoS\",\"DPoS\",\"PoC\",\"PoW/PoS\",\"PoW\",\"PoW\",\"PoW/PoS\",\" PoW/PoS/PoA\",\"PoW/PoSe\",\"PoW/PoS\",\"PoW\",\"PoW\",\"PoW/PoS\",\"PoW\",\"DPoS\",\"PoW\",\"PoW\",\"PoW\",\"PoW\",\"PoW\",\"PoW\",\"PoW\",\"PoW\",\"PoW/PoS\",\"PoW\",\"PoS\",\"DPoS+dBFT\",\"PoW/PoS\",\"Zero-Knowledge Proof\",\"dPoW/PoW\",\"DPoS\",\"PoW\",\"PoH\",\"PoW\",\"PoW\",\"PoW\",\"PoW\",\"PoW/PoS\",\"PoW\",\"PoW\",\"PoW/PoS\",\"PoW/nPoS\",\"PoS/LPoS\",\"PoS\",\"PoW/PoS\",\"PoA\",\"PoW/PoS\",\"PoW\",\"PoW\",\"PoW/PoS\",\"PoW\",\"PoS\",\"PoW/PoS\",\"PoS\",\"PoW\",\"PoC\",\"PoW\",\"DPoS\",\"PoW\",\"PoW/PoS\",\"PoW\",\"PoW\",\"PoS\",\"PoW\",\"mPoW\",\"PoS\",\"PoW\",\"PoW\",\"PoW/PoS\",\"Proof of Authority\",\"PoW\",\"SPoS\",\"PoW\",\"LPoS\",\"PoW\",\"PoW\",\"PoW/PoS\",\"PoW\",\"PoW\",\"TPoS\",\"PoW\",\"PoW/PoS\",\"PoW\",\"PoW/PoS\",\"PoW\"],\"TotalCoinsMined\":{\"__ndarray__\":\"AAAAAGXNzUGy28zzM7cdQrH0IT+I83BBAAAAqpwOvUEAAIBsbdHDQYm0rikVdY5BAQAAdKiDokH3KOPjUDZyQQAAALCpxadBGEBZ+vDJcUHiP1mevsdxQTqMMOKOeUVCAACA5Gzd1EHNM4dVERePQV6WxSIB14xBxEFhdzOeXEHNzMwnRlSkQZvNTvqAyXFBAAAAMJ7DcUEke6MxvyJNQX/////PBmVB6HbBMn5oAEJsL8ahm8dxQQAA4Ni+q9hBWKgZGTFQ5kEh7gyI/c9sQgAAgDf+d99BAAAAAGXNzUFTRRxZ4skcQhy/RVT7jOVBgeSlkWdPVUEAAAjmuPosQrTbej07B2NBAbUA5RYGaEFEkk5RYiIKQjS0v+fb2j1CfXXVVDFchkHm//9IPWCqQdEic4pOm85BFe1al+7KnUHb+X6xc1WbQc3MzLmJVKpBXI/C/+GLgEGieebPTgBmQTL1A2wrXKxBwSAw0eCujEGmr4xPGleSQXukQZWGeYVBZkteBTYgtUE0dTLfmh/KQUPavVuWh71BceuWT9fScUEAAAAAZc3NQU+rFWcUGJ5BAAAAxL8RoUE6Jt4tG/KPQQAAAACj4ZFBO97xe0bLgkGw5eLnZjmTQUYObMtGamRBAAAAiNTEn0H0fqFLZemQQWkX6Lnlk79BAAAAUGaEcEGCVmDSCfNHQWXGm92JeJBBQAb4u8PFzUEAAAAAZc3NQbDRHJx/Go9BJYy4kCH1sEGmAYz1yeeqQQAAAACE15dB6OytgUJ0pkFTkbo/Pv6vQbv3mQ04eJFBAAAAMAWYmEE364qc8O4bQoXr0cpYjaRBAAAAo4Qo/kEAAMD////fQQAAIDp54yVCAAAAoC3Xa0G72fn9BBlyQcT13t5jgS9Bd6yOVlhr40HJdt5kRli2QQAAALi8j55BIwLJILMSwkEAAABACiN/QQAAAJDk3XRBSezUjZTrh0EAAAAA9AZ0QfuuinoVkphBAAAZmxsFNEKxKYrjjRl2QQAAYBZae/VBwXeIBvn9i0EAAABQ8t6YQewNE4u0Gm1CIGCtl73zQ0Gy+IGFDLzyQfx93loRsGtBM75xefsCcUG5m4hJTQKcQbWILeg2mg5CAAAAiI4jy0H2tW8EapNkQQAAAAjt/JxBAAAACC2EZEE=\",\"dtype\":\"float64\",\"order\":\"little\",\"shape\":[109]}},\"selected\":{\"id\":\"1105\"},\"selection_policy\":{\"id\":\"1138\"}},\"id\":\"1104\",\"type\":\"ColumnDataSource\"},{\"attributes\":{},\"id\":\"1138\",\"type\":\"UnionRenderers\"}],\"root_ids\":[\"1102\"]},\"title\":\"Bokeh Application\",\"version\":\"2.2.3\"}};\n    var render_items = [{\"docid\":\"8cad29bb-f589-495a-b9b9-e75749c4a3ab\",\"root_ids\":[\"1102\"],\"roots\":{\"1102\":\"b8a4da78-374d-406a-889f-4f2156e69c06\"}}];\n    root.Bokeh.embed.embed_items_notebook(docs_json, render_items);\n  }\n  if (root.Bokeh !== undefined && root.Bokeh.Panel !== undefined) {\n    embed_document(root);\n  } else {\n    var attempts = 0;\n    var timer = setInterval(function(root) {\n      if (root.Bokeh !== undefined && root.Bokeh.Panel !== undefined) {\n        clearInterval(timer);\n        embed_document(root);\n      } else if (document.readyState == \"complete\") {\n        attempts++;\n        if (attempts > 100) {\n          clearInterval(timer);\n          console.log(\"Bokeh: ERROR: Unable to run BokehJS code because BokehJS library is missing\");\n        }\n      }\n    }, 10, root)\n  }\n})(window);</script>",
      "application/vnd.holoviews_exec.v0+json": "",
      "text/plain": [
       ":Table   [CoinName,Algorithm,ProofType,TotalCoinsMined,MaxSupply,Class]"
      ]
     },
     "metadata": {
      "application/vnd.holoviews_exec.v0+json": {
       "id": "1102"
      }
     },
     "execution_count": 18
    }
   ],
   "source": [
    "# Table with tradable cryptos\n",
    "crypto_table = pd.concat([coin_names, crypto_df], axis=1)\n",
    "crypto_table[\"Class\"] = predictions\n",
    "crypto_table.hvplot.table(\n",
    "    \n",
    ")"
   ]
  },
  {
   "cell_type": "code",
   "execution_count": 19,
   "metadata": {},
   "outputs": [
    {
     "output_type": "stream",
     "name": "stdout",
     "text": [
      "The Total number of tradable cryprocurrencies: 109\n"
     ]
    }
   ],
   "source": [
    "# Print the total number of tradable cryptocurrencies\n",
    "print(f\"The Total number of tradable cryprocurrencies: {len(crypto_table)}\")"
   ]
  },
  {
   "cell_type": "markdown",
   "metadata": {},
   "source": [
    "#### Scatter Plot with Tradable Cryptocurrencies"
   ]
  },
  {
   "cell_type": "code",
   "execution_count": 57,
   "metadata": {},
   "outputs": [
    {
     "output_type": "display_data",
     "data": {},
     "metadata": {}
    },
    {
     "output_type": "execute_result",
     "data": {
      "text/html": "<div id='3784'>\n\n\n\n\n\n  <div class=\"bk-root\" id=\"7552c09b-91b7-4d28-8630-1f134693714d\" data-root-id=\"3784\"></div>\n</div>\n<script type=\"application/javascript\">(function(root) {\n  function embed_document(root) {\n    var docs_json = {\"63c927bf-4d1d-4b98-bb48-61434fcf3d07\":{\"roots\":{\"references\":[{\"attributes\":{},\"id\":\"3794\",\"type\":\"LinearScale\"},{\"attributes\":{\"overlay\":{\"id\":\"3811\"}},\"id\":\"3809\",\"type\":\"BoxZoomTool\"},{\"attributes\":{},\"id\":\"3810\",\"type\":\"ResetTool\"},{\"attributes\":{\"axis_label\":\"TotalCoinsMined\",\"bounds\":\"auto\",\"formatter\":{\"id\":\"3782\"},\"major_label_orientation\":\"horizontal\",\"ticker\":{\"id\":\"3799\"}},\"id\":\"3798\",\"type\":\"LinearAxis\"},{\"attributes\":{\"margin\":[5,5,5,5],\"name\":\"HSpacer06878\",\"sizing_mode\":\"stretch_width\"},\"id\":\"3847\",\"type\":\"Spacer\"},{\"attributes\":{},\"id\":\"3796\",\"type\":\"LinearScale\"},{\"attributes\":{\"end\":1100018403290.9785,\"reset_end\":1100018403290.9785,\"reset_start\":-100001673027.54352,\"start\":-100001673027.54352,\"tags\":[[[\"MaxSupply\",\"MaxSupply\",null]]]},\"id\":\"3787\",\"type\":\"Range1d\"},{\"attributes\":{\"children\":[{\"id\":\"3785\"},{\"id\":\"3789\"},{\"id\":\"3847\"}],\"margin\":[0,0,0,0],\"name\":\"Row06873\",\"tags\":[\"embedded\"]},\"id\":\"3784\",\"type\":\"Row\"},{\"attributes\":{},\"id\":\"3799\",\"type\":\"BasicTicker\"},{\"attributes\":{\"axis_label\":\"MaxSupply\",\"bounds\":\"auto\",\"formatter\":{\"id\":\"3783\"},\"major_label_orientation\":\"horizontal\",\"ticker\":{\"id\":\"3803\"}},\"id\":\"3802\",\"type\":\"LinearAxis\"},{\"attributes\":{\"axis\":{\"id\":\"3798\"},\"grid_line_color\":null,\"ticker\":null},\"id\":\"3801\",\"type\":\"Grid\"},{\"attributes\":{\"data\":{\"CoinName\":[\"Acute Angle Cloud\",\"Cardano\",\"AEON\",\"Aion\",\"Amber\",\"Arweave\",\"ARK\",\"Auroracoin\",\"Bitcoin Diamond\",\"Bitcoin Cash\",\"Bitcoin ABC\",\"ByteCoin\",\"Beldex\",\"Beam\",\"BlackCoin\",\"BlockNet\",\"Binance Coin\",\"Bitcoin SV\",\"Bitcoin\",\"Bitcoin Private\",\"Bitcoin Vault\",\"BitcoinZ\",\"Bitcoin Gold\",\"Bytom\",\"Bitshares\",\"BitTorrent\",\"BurstCoin\",\"OpenChat\",\"Nervos Network\",\"Callisto Network\",\"CloakCoin\",\"DAPS Coin\",\"Dash\",\"Decred\",\"DigiByte\",\"Dogecoin\",\"Emercoin\",\"Einsteinium\",\"EOS\",\"Ethereum Classic\",\"Ethereum\",\"EtherZero\",\"Expanse\",\"Firo\",\"FeatherCoin\",\"Grin\",\"Groestlcoin\",\"HyperCash\",\"Handshake\",\"ICON Project\",\"INT\",\"IOCoin\",\"Kcash\",\"Komodo\",\"Lisk\",\"Litecoin\",\"MAPS\",\"MegaCoin\",\"MonaCoin\",\"MimbleWimbleCoin\",\"Nano\",\"NavCoin\",\"Gulden\",\"Namecoin\",\"NovaCoin\",\"Nexus\",\"Nxt\",\"Ontology\",\"Private Instant Verified Transaction\",\"Poa Network\",\"PotCoin\",\"Primas\",\"Pura\",\"QuarkCoin\",\"Quantum Resistant Ledger\",\"QTUM\",\"Reddcoin\",\"Rise\",\"Ravencoin Classic\",\"SafeExchangeCoin\",\"Siacoin\",\"Shift\",\"SibCoin\",\"SaluS\",\"SmartCash\",\"Steem\",\"Stratis\",\"SysCoin\",\"TENT\",\"TokenPay\",\"Ubiq\",\"UnitedBitcoin\",\"VEIL\",\"VeChain\",\"ViaCoin\",\"V Systems\",\"Vertcoin\",\"Waves\",\"Wibcoin\",\"CounterParty\",\"DigitalNote\",\"Haven Protocol\",\"Monero\",\"Stakenet\",\"Verge\",\"WhiteCoin\",\"ZCash\",\"Zelcash\",\"Horizen\"],\"MaxSupply\":{\"__ndarray__\":\"AAAAAAAA8L8AAAAEa/QkQgAAAAAAAPC/AAAAAAAA8L8AAAAAAADwvwAAAACkeI9BAAAAAAAA8L8AAAAA9AZ0QQAAAACxCKlB5WGh//MGdEHlYaH/8wZ0QQAAwGiieUVCAAAAAAAA8L8AAAAkF2avQQAAAACE15dBAAAAAAAA8L/NzMyHvsKkQeVhof/zBnRB5WGh//MGdEEAAABAX9B1QQAAAAD0BnRBAAAASMqOE0IAAAAA9AZ0QQAAAACxCKlBAADAEIvT6kEAAAAAAADwvwAAANCbFeBBAAAAAAAA8L8AAAAAAADwvwAAABDiNvhBAAAAAAAA8L8AAAA8U0wwQgAAAABCBnJBAAAAAPQGdEEAAABIyo4TQgAAAAAAAPC/AAAAAAAA8L8AAAAAAADwvwAAAAAAAPC/AAAAwA0eqUEAAAAAAADwvwAAAAAAAPC/AAAAAITXl0EAAAAAnGh0QQAAAAD0BrRBAAAAAAAA8L8AAAAAsQiZQQAAAAD0BpRBAAAAgPtl3kEAAAAAAADwvwAAAABlzc1BAAAAABj7dEEAAAAAAADwvwAAAACE16dBAAAAAAAA8L8AAAAA9AaUQQAAACBfoAJCAAAAAPQGhEEAAAAAAADwvwAAAADQEnNBAAAAiNTEn0EAAAAAAADwvwAAAACxCNlBAAAAAAAA8L8AAAAAAADwvwAAAAC+mJJBAAAAAGXNzUEAAAAAAADwvwAAAAAAAPC/AAAAAAAA8L8AAAAAsQi5QQAAAAAAAPC/AAAAAAAA8L8AAAAAAADwvwAAAACxCJlBAAAACfW0mUEAAAAAAADwvwAAAAAAAPC/AAAASMqOE0IAAAAAAADwvwAAAAAAAPC/AAAAAAAA8L8AAAAA9AZ0QQAAAAAAAPC/AAAAIF+g8kEAAAAAAADwvwAAAAAAAPC/AAAAAOd2ykEAAAAA0AyUQQAAAACE13dBAAAAAAAA8L8AAAAA9AZ0QQAAAACj4bFBAABizHkwNEIAAAAAAADwvwAAAAAAAPC/AAAAAPQGlEEAAAAAAADwv+wNE4u0Gm1CAAAAAAAA8L8AAAAAAADwvwAAAAAAAPC/AAAAAAAA8L8AAAAAAADwvwAAAAYK1g5CAAAAAGXNzUEAAAAA9AZ0QQAAAACxCKlBAAAAAPQGdEE=\",\"dtype\":\"float64\",\"order\":\"little\",\"shape\":[109]},\"TotalCoinsMined\":{\"__ndarray__\":\"AAAAAGXNzUGy28zzM7cdQrH0IT+I83BBAAAAqpwOvUEAAIBsbdHDQYm0rikVdY5BAQAAdKiDokH3KOPjUDZyQQAAALCpxadBGEBZ+vDJcUHiP1mevsdxQTqMMOKOeUVCAACA5Gzd1EHNM4dVERePQV6WxSIB14xBxEFhdzOeXEHNzMwnRlSkQZvNTvqAyXFBAAAAMJ7DcUEke6MxvyJNQX/////PBmVB6HbBMn5oAEJsL8ahm8dxQQAA4Ni+q9hBWKgZGTFQ5kEh7gyI/c9sQgAAgDf+d99BAAAAAGXNzUFTRRxZ4skcQhy/RVT7jOVBgeSlkWdPVUEAAAjmuPosQrTbej07B2NBAbUA5RYGaEFEkk5RYiIKQjS0v+fb2j1CfXXVVDFchkHm//9IPWCqQdEic4pOm85BFe1al+7KnUHb+X6xc1WbQc3MzLmJVKpBXI/C/+GLgEGieebPTgBmQTL1A2wrXKxBwSAw0eCujEGmr4xPGleSQXukQZWGeYVBZkteBTYgtUE0dTLfmh/KQUPavVuWh71BceuWT9fScUEAAAAAZc3NQU+rFWcUGJ5BAAAAxL8RoUE6Jt4tG/KPQQAAAACj4ZFBO97xe0bLgkGw5eLnZjmTQUYObMtGamRBAAAAiNTEn0H0fqFLZemQQWkX6Lnlk79BAAAAUGaEcEGCVmDSCfNHQWXGm92JeJBBQAb4u8PFzUEAAAAAZc3NQbDRHJx/Go9BJYy4kCH1sEGmAYz1yeeqQQAAAACE15dB6OytgUJ0pkFTkbo/Pv6vQbv3mQ04eJFBAAAAMAWYmEE364qc8O4bQoXr0cpYjaRBAAAAo4Qo/kEAAMD////fQQAAIDp54yVCAAAAoC3Xa0G72fn9BBlyQcT13t5jgS9Bd6yOVlhr40HJdt5kRli2QQAAALi8j55BIwLJILMSwkEAAABACiN/QQAAAJDk3XRBSezUjZTrh0EAAAAA9AZ0QfuuinoVkphBAAAZmxsFNEKxKYrjjRl2QQAAYBZae/VBwXeIBvn9i0EAAABQ8t6YQewNE4u0Gm1CIGCtl73zQ0Gy+IGFDLzyQfx93loRsGtBM75xefsCcUG5m4hJTQKcQbWILeg2mg5CAAAAiI4jy0H2tW8EapNkQQAAAAjt/JxBAAAACC2EZEE=\",\"dtype\":\"float64\",\"order\":\"little\",\"shape\":[109]}},\"selected\":{\"id\":\"3820\"},\"selection_policy\":{\"id\":\"3838\"}},\"id\":\"3819\",\"type\":\"ColumnDataSource\"},{\"attributes\":{\"fill_alpha\":{\"value\":0.1},\"fill_color\":{\"value\":\"#1f77b3\"},\"line_alpha\":{\"value\":0.1},\"line_color\":{\"value\":\"#1f77b3\"},\"size\":{\"units\":\"screen\",\"value\":5.477225575051661},\"x\":{\"field\":\"TotalCoinsMined\"},\"y\":{\"field\":\"MaxSupply\"}},\"id\":\"3823\",\"type\":\"Scatter\"},{\"attributes\":{\"callback\":null,\"renderers\":[{\"id\":\"3825\"}],\"tags\":[\"hv_created\"],\"tooltips\":[[\"TotalCoinsMined\",\"@{TotalCoinsMined}\"],[\"MaxSupply\",\"@{MaxSupply}\"],[\"CoinName\",\"@{CoinName}\"]]},\"id\":\"3788\",\"type\":\"HoverTool\"},{\"attributes\":{\"margin\":[5,5,5,5],\"name\":\"HSpacer06877\",\"sizing_mode\":\"stretch_width\"},\"id\":\"3785\",\"type\":\"Spacer\"},{\"attributes\":{\"fill_alpha\":{\"value\":0.2},\"fill_color\":{\"value\":\"#1f77b3\"},\"line_alpha\":{\"value\":0.2},\"line_color\":{\"value\":\"#1f77b3\"},\"size\":{\"units\":\"screen\",\"value\":5.477225575051661},\"x\":{\"field\":\"TotalCoinsMined\"},\"y\":{\"field\":\"MaxSupply\"}},\"id\":\"3824\",\"type\":\"Scatter\"},{\"attributes\":{},\"id\":\"3803\",\"type\":\"BasicTicker\"},{\"attributes\":{\"axis\":{\"id\":\"3802\"},\"dimension\":1,\"grid_line_color\":null,\"ticker\":null},\"id\":\"3805\",\"type\":\"Grid\"},{\"attributes\":{\"fill_color\":{\"value\":\"#1f77b3\"},\"line_color\":{\"value\":\"#1f77b3\"},\"size\":{\"units\":\"screen\",\"value\":5.477225575051661},\"x\":{\"field\":\"TotalCoinsMined\"},\"y\":{\"field\":\"MaxSupply\"}},\"id\":\"3822\",\"type\":\"Scatter\"},{\"attributes\":{\"active_drag\":\"auto\",\"active_inspect\":\"auto\",\"active_multi\":null,\"active_scroll\":\"auto\",\"active_tap\":\"auto\",\"tools\":[{\"id\":\"3788\"},{\"id\":\"3806\"},{\"id\":\"3807\"},{\"id\":\"3808\"},{\"id\":\"3809\"},{\"id\":\"3810\"}]},\"id\":\"3812\",\"type\":\"Toolbar\"},{\"attributes\":{\"source\":{\"id\":\"3819\"}},\"id\":\"3826\",\"type\":\"CDSView\"},{\"attributes\":{},\"id\":\"3820\",\"type\":\"Selection\"},{\"attributes\":{},\"id\":\"3838\",\"type\":\"UnionRenderers\"},{\"attributes\":{\"bottom_units\":\"screen\",\"fill_alpha\":0.5,\"fill_color\":\"lightgrey\",\"left_units\":\"screen\",\"level\":\"overlay\",\"line_alpha\":1.0,\"line_color\":\"black\",\"line_dash\":[4,4],\"line_width\":2,\"right_units\":\"screen\",\"top_units\":\"screen\"},\"id\":\"3811\",\"type\":\"BoxAnnotation\"},{\"attributes\":{\"data_source\":{\"id\":\"3819\"},\"glyph\":{\"id\":\"3822\"},\"hover_glyph\":null,\"muted_glyph\":{\"id\":\"3824\"},\"nonselection_glyph\":{\"id\":\"3823\"},\"selection_glyph\":null,\"view\":{\"id\":\"3826\"}},\"id\":\"3825\",\"type\":\"GlyphRenderer\"},{\"attributes\":{},\"id\":\"3783\",\"type\":\"NumeralTickFormatter\"},{\"attributes\":{\"end\":1042874545888.4851,\"reset_end\":1042874545888.4851,\"reset_start\":-42856783254.11469,\"start\":-42856783254.11469,\"tags\":[[[\"TotalCoinsMined\",\"TotalCoinsMined\",null]]]},\"id\":\"3786\",\"type\":\"Range1d\"},{\"attributes\":{\"text\":\"Cryptocurrencies Mined vs. Supply\",\"text_color\":{\"value\":\"black\"},\"text_font_size\":{\"value\":\"12pt\"}},\"id\":\"3790\",\"type\":\"Title\"},{\"attributes\":{\"below\":[{\"id\":\"3798\"}],\"center\":[{\"id\":\"3801\"},{\"id\":\"3805\"}],\"left\":[{\"id\":\"3802\"}],\"margin\":[5,5,5,5],\"min_border_bottom\":10,\"min_border_left\":10,\"min_border_right\":10,\"min_border_top\":10,\"plot_height\":300,\"plot_width\":700,\"renderers\":[{\"id\":\"3825\"}],\"sizing_mode\":\"fixed\",\"title\":{\"id\":\"3790\"},\"toolbar\":{\"id\":\"3812\"},\"x_range\":{\"id\":\"3786\"},\"x_scale\":{\"id\":\"3794\"},\"y_range\":{\"id\":\"3787\"},\"y_scale\":{\"id\":\"3796\"}},\"id\":\"3789\",\"subtype\":\"Figure\",\"type\":\"Plot\"},{\"attributes\":{},\"id\":\"3782\",\"type\":\"NumeralTickFormatter\"},{\"attributes\":{},\"id\":\"3806\",\"type\":\"SaveTool\"},{\"attributes\":{},\"id\":\"3807\",\"type\":\"PanTool\"},{\"attributes\":{},\"id\":\"3808\",\"type\":\"WheelZoomTool\"}],\"root_ids\":[\"3784\"]},\"title\":\"Bokeh Application\",\"version\":\"2.2.3\"}};\n    var render_items = [{\"docid\":\"63c927bf-4d1d-4b98-bb48-61434fcf3d07\",\"root_ids\":[\"3784\"],\"roots\":{\"3784\":\"7552c09b-91b7-4d28-8630-1f134693714d\"}}];\n    root.Bokeh.embed.embed_items_notebook(docs_json, render_items);\n  }\n  if (root.Bokeh !== undefined && root.Bokeh.Panel !== undefined) {\n    embed_document(root);\n  } else {\n    var attempts = 0;\n    var timer = setInterval(function(root) {\n      if (root.Bokeh !== undefined && root.Bokeh.Panel !== undefined) {\n        clearInterval(timer);\n        embed_document(root);\n      } else if (document.readyState == \"complete\") {\n        attempts++;\n        if (attempts > 100) {\n          clearInterval(timer);\n          console.log(\"Bokeh: ERROR: Unable to run BokehJS code because BokehJS library is missing\");\n        }\n      }\n    }, 10, root)\n  }\n})(window);</script>",
      "application/vnd.holoviews_exec.v0+json": "",
      "text/plain": [
       ":Scatter   [TotalCoinsMined]   (MaxSupply,CoinName)"
      ]
     },
     "metadata": {
      "application/vnd.holoviews_exec.v0+json": {
       "id": "3784"
      }
     },
     "execution_count": 57
    }
   ],
   "source": [
    "# Plot the scatter with x=\"TotalCoinsMined\" and y=\"TotalCoinSupply\"\n",
    "crypto_table.hvplot.scatter(\n",
    "    x=\"TotalCoinsMined\",\n",
    "    y=\"MaxSupply\",\n",
    "    xformatter= NumeralTickFormatter(format='0,0'),\n",
    "    yformatter=NumeralTickFormatter(format='0,0'),\n",
    "    hover_cols=[\"CoinName\"],\n",
    "    title=\"Cryptocurrencies Mined vs. Supply\",\n",
    ")"
   ]
  },
  {
   "cell_type": "code",
   "execution_count": null,
   "metadata": {},
   "outputs": [],
   "source": []
  }
 ],
 "metadata": {
  "file_extension": ".py",
  "kernelspec": {
   "name": "python3",
   "display_name": "Python 3.7.9 64-bit",
   "metadata": {
    "interpreter": {
     "hash": "46482dca53ce9066f47b9cd737751cb6f104deac9f837fafeed2fa144448fb19"
    }
   }
  },
  "language_info": {
   "codemirror_mode": {
    "name": "ipython",
    "version": 3
   },
   "file_extension": ".py",
   "mimetype": "text/x-python",
   "name": "python",
   "nbconvert_exporter": "python",
   "pygments_lexer": "ipython3",
   "version": "3.7.9-final"
  },
  "mimetype": "text/x-python",
  "name": "python",
  "npconvert_exporter": "python",
  "pygments_lexer": "ipython3",
  "version": 3
 },
 "nbformat": 4,
 "nbformat_minor": 4
}